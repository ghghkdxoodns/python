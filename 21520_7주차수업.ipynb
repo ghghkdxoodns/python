{
  "nbformat": 4,
  "nbformat_minor": 0,
  "metadata": {
    "colab": {
      "name": "21520_7주차수업.ipynb",
      "provenance": [],
      "collapsed_sections": [],
      "authorship_tag": "ABX9TyM9+KRf2emgqettvHuOFcEd",
      "include_colab_link": true
    },
    "kernelspec": {
      "name": "python3",
      "display_name": "Python 3"
    },
    "language_info": {
      "name": "python"
    }
  },
  "cells": [
    {
      "cell_type": "markdown",
      "metadata": {
        "id": "view-in-github",
        "colab_type": "text"
      },
      "source": [
        "<a href=\"https://colab.research.google.com/github/ghghkdxoodns/python/blob/main/21520_7%EC%A3%BC%EC%B0%A8%EC%88%98%EC%97%85.ipynb\" target=\"_parent\"><img src=\"https://colab.research.google.com/assets/colab-badge.svg\" alt=\"Open In Colab\"/></a>"
      ]
    },
    {
      "cell_type": "code",
      "metadata": {
        "id": "cwt3sQMdKzWP"
      },
      "source": [
        "x = float(input('성적 입력 : '))\n",
        "\n",
        "if x >= 70 ; \n",
        "  print(f [x] : PASS )"
      ],
      "execution_count": null,
      "outputs": []
    }
  ]
}