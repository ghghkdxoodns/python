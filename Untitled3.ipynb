{
  "nbformat": 4,
  "nbformat_minor": 0,
  "metadata": {
    "colab": {
      "name": "Untitled3.ipynb",
      "provenance": [],
      "authorship_tag": "ABX9TyNzdLAJjQlJ+jfvQHCepOQL",
      "include_colab_link": true
    },
    "kernelspec": {
      "name": "python3",
      "display_name": "Python 3"
    },
    "language_info": {
      "name": "python"
    }
  },
  "cells": [
    {
      "cell_type": "markdown",
      "metadata": {
        "id": "view-in-github",
        "colab_type": "text"
      },
      "source": [
        "<a href=\"https://colab.research.google.com/github/ghghkdxoodns/python/blob/main/Untitled3.ipynb\" target=\"_parent\"><img src=\"https://colab.research.google.com/assets/colab-badge.svg\" alt=\"Open In Colab\"/></a>"
      ]
    },
    {
      "cell_type": "code",
      "metadata": {
        "id": "karwn_-CKPih"
      },
      "source": [
        "import pandas as pd\n",
        "import numpy as np\n",
        "import matplotlib.pyplot as plt"
      ],
      "execution_count": 6,
      "outputs": []
    },
    {
      "cell_type": "code",
      "metadata": {
        "colab": {
          "base_uri": "https://localhost:8080/"
        },
        "id": "19PJmzcfLB1w",
        "outputId": "50cc4c7a-9640-4260-eaa7-769dfc80ee37"
      },
      "source": [
        "dates = pddates = pd.date_range('20201113', periods=6)\n",
        "dates"
      ],
      "execution_count": 7,
      "outputs": [
        {
          "output_type": "execute_result",
          "data": {
            "text/plain": [
              "DatetimeIndex(['2020-11-13', '2020-11-14', '2020-11-15', '2020-11-16',\n",
              "               '2020-11-17', '2020-11-18'],\n",
              "              dtype='datetime64[ns]', freq='D')"
            ]
          },
          "metadata": {
            "tags": []
          },
          "execution_count": 7
        }
      ]
    },
    {
      "cell_type": "code",
      "metadata": {
        "id": "usxyu_qzLNed"
      },
      "source": [
        "df = pd.DataFrame(np.random.randn(6,4), index=dates, columns=list('ABCD'))"
      ],
      "execution_count": 12,
      "outputs": []
    },
    {
      "cell_type": "code",
      "metadata": {
        "colab": {
          "base_uri": "https://localhost:8080/"
        },
        "id": "Udl9LaO8MCm3",
        "outputId": "1bb10e04-841d-426a-a3bd-33c1b52fe881"
      },
      "source": [
        "df.mean(0)"
      ],
      "execution_count": 13,
      "outputs": [
        {
          "output_type": "execute_result",
          "data": {
            "text/plain": [
              "A   -0.229466\n",
              "B    0.007416\n",
              "C    0.069517\n",
              "D    0.256633\n",
              "dtype: float64"
            ]
          },
          "metadata": {
            "tags": []
          },
          "execution_count": 13
        }
      ]
    },
    {
      "cell_type": "code",
      "metadata": {
        "colab": {
          "base_uri": "https://localhost:8080/"
        },
        "id": "0gcqYxTRMrS3",
        "outputId": "5d5f8429-6913-4de2-ab9c-1b09ad6b4ed3"
      },
      "source": [
        "df.mean(1)"
      ],
      "execution_count": 14,
      "outputs": [
        {
          "output_type": "execute_result",
          "data": {
            "text/plain": [
              "2020-11-13   -0.918136\n",
              "2020-11-14    0.868509\n",
              "2020-11-15    0.022606\n",
              "2020-11-16    0.039608\n",
              "2020-11-17    0.643352\n",
              "2020-11-18   -0.499788\n",
              "Freq: D, dtype: float64"
            ]
          },
          "metadata": {
            "tags": []
          },
          "execution_count": 14
        }
      ]
    },
    {
      "cell_type": "code",
      "metadata": {
        "colab": {
          "base_uri": "https://localhost:8080/",
          "height": 235
        },
        "id": "xnFbOBwhMx3w",
        "outputId": "d7e32dd7-444b-4a58-8bc7-e73cfade667b"
      },
      "source": [
        "df.apply(np.cumsum, axis=0)"
      ],
      "execution_count": 16,
      "outputs": [
        {
          "output_type": "execute_result",
          "data": {
            "text/html": [
              "<div>\n",
              "<style scoped>\n",
              "    .dataframe tbody tr th:only-of-type {\n",
              "        vertical-align: middle;\n",
              "    }\n",
              "\n",
              "    .dataframe tbody tr th {\n",
              "        vertical-align: top;\n",
              "    }\n",
              "\n",
              "    .dataframe thead th {\n",
              "        text-align: right;\n",
              "    }\n",
              "</style>\n",
              "<table border=\"1\" class=\"dataframe\">\n",
              "  <thead>\n",
              "    <tr style=\"text-align: right;\">\n",
              "      <th></th>\n",
              "      <th>A</th>\n",
              "      <th>B</th>\n",
              "      <th>C</th>\n",
              "      <th>D</th>\n",
              "    </tr>\n",
              "  </thead>\n",
              "  <tbody>\n",
              "    <tr>\n",
              "      <th>2020-11-13</th>\n",
              "      <td>-1.963307</td>\n",
              "      <td>-0.859548</td>\n",
              "      <td>-1.746795</td>\n",
              "      <td>0.897107</td>\n",
              "    </tr>\n",
              "    <tr>\n",
              "      <th>2020-11-14</th>\n",
              "      <td>-1.036422</td>\n",
              "      <td>0.248947</td>\n",
              "      <td>-2.606438</td>\n",
              "      <td>3.195407</td>\n",
              "    </tr>\n",
              "    <tr>\n",
              "      <th>2020-11-15</th>\n",
              "      <td>-0.852916</td>\n",
              "      <td>1.061579</td>\n",
              "      <td>-2.552304</td>\n",
              "      <td>2.235557</td>\n",
              "    </tr>\n",
              "    <tr>\n",
              "      <th>2020-11-16</th>\n",
              "      <td>-0.489414</td>\n",
              "      <td>0.253568</td>\n",
              "      <td>-1.820583</td>\n",
              "      <td>2.106778</td>\n",
              "    </tr>\n",
              "    <tr>\n",
              "      <th>2020-11-17</th>\n",
              "      <td>-1.277342</td>\n",
              "      <td>0.653806</td>\n",
              "      <td>0.729161</td>\n",
              "      <td>2.518134</td>\n",
              "    </tr>\n",
              "    <tr>\n",
              "      <th>2020-11-18</th>\n",
              "      <td>-1.376793</td>\n",
              "      <td>0.044496</td>\n",
              "      <td>0.417102</td>\n",
              "      <td>1.539801</td>\n",
              "    </tr>\n",
              "  </tbody>\n",
              "</table>\n",
              "</div>"
            ],
            "text/plain": [
              "                   A         B         C         D\n",
              "2020-11-13 -1.963307 -0.859548 -1.746795  0.897107\n",
              "2020-11-14 -1.036422  0.248947 -2.606438  3.195407\n",
              "2020-11-15 -0.852916  1.061579 -2.552304  2.235557\n",
              "2020-11-16 -0.489414  0.253568 -1.820583  2.106778\n",
              "2020-11-17 -1.277342  0.653806  0.729161  2.518134\n",
              "2020-11-18 -1.376793  0.044496  0.417102  1.539801"
            ]
          },
          "metadata": {
            "tags": []
          },
          "execution_count": 16
        }
      ]
    },
    {
      "cell_type": "code",
      "metadata": {
        "colab": {
          "base_uri": "https://localhost:8080/",
          "height": 235
        },
        "id": "q1kvpSfpNLh2",
        "outputId": "c1b3bb7f-cbde-4900-849d-cd0dae480bea"
      },
      "source": [
        "df.apply(np.cumsum, axis=1)"
      ],
      "execution_count": 17,
      "outputs": [
        {
          "output_type": "execute_result",
          "data": {
            "text/html": [
              "<div>\n",
              "<style scoped>\n",
              "    .dataframe tbody tr th:only-of-type {\n",
              "        vertical-align: middle;\n",
              "    }\n",
              "\n",
              "    .dataframe tbody tr th {\n",
              "        vertical-align: top;\n",
              "    }\n",
              "\n",
              "    .dataframe thead th {\n",
              "        text-align: right;\n",
              "    }\n",
              "</style>\n",
              "<table border=\"1\" class=\"dataframe\">\n",
              "  <thead>\n",
              "    <tr style=\"text-align: right;\">\n",
              "      <th></th>\n",
              "      <th>A</th>\n",
              "      <th>B</th>\n",
              "      <th>C</th>\n",
              "      <th>D</th>\n",
              "    </tr>\n",
              "  </thead>\n",
              "  <tbody>\n",
              "    <tr>\n",
              "      <th>2020-11-13</th>\n",
              "      <td>-1.963307</td>\n",
              "      <td>-2.822855</td>\n",
              "      <td>-4.569650</td>\n",
              "      <td>-3.672543</td>\n",
              "    </tr>\n",
              "    <tr>\n",
              "      <th>2020-11-14</th>\n",
              "      <td>0.926885</td>\n",
              "      <td>2.035380</td>\n",
              "      <td>1.175738</td>\n",
              "      <td>3.474038</td>\n",
              "    </tr>\n",
              "    <tr>\n",
              "      <th>2020-11-15</th>\n",
              "      <td>0.183506</td>\n",
              "      <td>0.996138</td>\n",
              "      <td>1.050272</td>\n",
              "      <td>0.090422</td>\n",
              "    </tr>\n",
              "    <tr>\n",
              "      <th>2020-11-16</th>\n",
              "      <td>0.363502</td>\n",
              "      <td>-0.444508</td>\n",
              "      <td>0.287213</td>\n",
              "      <td>0.158434</td>\n",
              "    </tr>\n",
              "    <tr>\n",
              "      <th>2020-11-17</th>\n",
              "      <td>-0.787929</td>\n",
              "      <td>-0.387691</td>\n",
              "      <td>2.162053</td>\n",
              "      <td>2.573409</td>\n",
              "    </tr>\n",
              "    <tr>\n",
              "      <th>2020-11-18</th>\n",
              "      <td>-0.099451</td>\n",
              "      <td>-0.708761</td>\n",
              "      <td>-1.020820</td>\n",
              "      <td>-1.999154</td>\n",
              "    </tr>\n",
              "  </tbody>\n",
              "</table>\n",
              "</div>"
            ],
            "text/plain": [
              "                   A         B         C         D\n",
              "2020-11-13 -1.963307 -2.822855 -4.569650 -3.672543\n",
              "2020-11-14  0.926885  2.035380  1.175738  3.474038\n",
              "2020-11-15  0.183506  0.996138  1.050272  0.090422\n",
              "2020-11-16  0.363502 -0.444508  0.287213  0.158434\n",
              "2020-11-17 -0.787929 -0.387691  2.162053  2.573409\n",
              "2020-11-18 -0.099451 -0.708761 -1.020820 -1.999154"
            ]
          },
          "metadata": {
            "tags": []
          },
          "execution_count": 17
        }
      ]
    },
    {
      "cell_type": "code",
      "metadata": {
        "colab": {
          "base_uri": "https://localhost:8080/",
          "height": 235
        },
        "id": "g61AWIZcNbr2",
        "outputId": "859166d1-ff64-4799-a244-311dd1d8e74d"
      },
      "source": [
        "df"
      ],
      "execution_count": 22,
      "outputs": [
        {
          "output_type": "execute_result",
          "data": {
            "text/html": [
              "<div>\n",
              "<style scoped>\n",
              "    .dataframe tbody tr th:only-of-type {\n",
              "        vertical-align: middle;\n",
              "    }\n",
              "\n",
              "    .dataframe tbody tr th {\n",
              "        vertical-align: top;\n",
              "    }\n",
              "\n",
              "    .dataframe thead th {\n",
              "        text-align: right;\n",
              "    }\n",
              "</style>\n",
              "<table border=\"1\" class=\"dataframe\">\n",
              "  <thead>\n",
              "    <tr style=\"text-align: right;\">\n",
              "      <th></th>\n",
              "      <th>A</th>\n",
              "      <th>B</th>\n",
              "      <th>C</th>\n",
              "      <th>D</th>\n",
              "    </tr>\n",
              "  </thead>\n",
              "  <tbody>\n",
              "    <tr>\n",
              "      <th>2020-11-13</th>\n",
              "      <td>-1.963307</td>\n",
              "      <td>-0.859548</td>\n",
              "      <td>-1.746795</td>\n",
              "      <td>0.897107</td>\n",
              "    </tr>\n",
              "    <tr>\n",
              "      <th>2020-11-14</th>\n",
              "      <td>0.926885</td>\n",
              "      <td>1.108495</td>\n",
              "      <td>-0.859643</td>\n",
              "      <td>2.298300</td>\n",
              "    </tr>\n",
              "    <tr>\n",
              "      <th>2020-11-15</th>\n",
              "      <td>0.183506</td>\n",
              "      <td>0.812632</td>\n",
              "      <td>0.054134</td>\n",
              "      <td>-0.959849</td>\n",
              "    </tr>\n",
              "    <tr>\n",
              "      <th>2020-11-16</th>\n",
              "      <td>0.363502</td>\n",
              "      <td>-0.808011</td>\n",
              "      <td>0.731721</td>\n",
              "      <td>-0.128779</td>\n",
              "    </tr>\n",
              "    <tr>\n",
              "      <th>2020-11-17</th>\n",
              "      <td>-0.787929</td>\n",
              "      <td>0.400237</td>\n",
              "      <td>2.549744</td>\n",
              "      <td>0.411356</td>\n",
              "    </tr>\n",
              "    <tr>\n",
              "      <th>2020-11-18</th>\n",
              "      <td>-0.099451</td>\n",
              "      <td>-0.609310</td>\n",
              "      <td>-0.312059</td>\n",
              "      <td>-0.978334</td>\n",
              "    </tr>\n",
              "  </tbody>\n",
              "</table>\n",
              "</div>"
            ],
            "text/plain": [
              "                   A         B         C         D\n",
              "2020-11-13 -1.963307 -0.859548 -1.746795  0.897107\n",
              "2020-11-14  0.926885  1.108495 -0.859643  2.298300\n",
              "2020-11-15  0.183506  0.812632  0.054134 -0.959849\n",
              "2020-11-16  0.363502 -0.808011  0.731721 -0.128779\n",
              "2020-11-17 -0.787929  0.400237  2.549744  0.411356\n",
              "2020-11-18 -0.099451 -0.609310 -0.312059 -0.978334"
            ]
          },
          "metadata": {
            "tags": []
          },
          "execution_count": 22
        }
      ]
    },
    {
      "cell_type": "code",
      "metadata": {
        "colab": {
          "base_uri": "https://localhost:8080/"
        },
        "id": "j2fl26xfNpt2",
        "outputId": "37b94eb5-06a9-4121-b92c-2258b69c491f"
      },
      "source": [
        "df.apply(lambda x: x.max() - x.min(), axis=1)"
      ],
      "execution_count": 23,
      "outputs": [
        {
          "output_type": "execute_result",
          "data": {
            "text/plain": [
              "2020-11-13    2.860413\n",
              "2020-11-14    3.157943\n",
              "2020-11-15    1.772481\n",
              "2020-11-16    1.539732\n",
              "2020-11-17    3.337672\n",
              "2020-11-18    0.878883\n",
              "Freq: D, dtype: float64"
            ]
          },
          "metadata": {
            "tags": []
          },
          "execution_count": 23
        }
      ]
    },
    {
      "cell_type": "code",
      "metadata": {
        "colab": {
          "base_uri": "https://localhost:8080/"
        },
        "id": "4PY0JknXN2S1",
        "outputId": "e68297e6-dee3-4d5d-d2d0-92b8aa1c8117"
      },
      "source": [
        "S = pd.Series(np.random.randint(1, 7, size = 6))\n",
        "S.value_counts()"
      ],
      "execution_count": 34,
      "outputs": [
        {
          "output_type": "execute_result",
          "data": {
            "text/plain": [
              "2    2\n",
              "1    2\n",
              "6    1\n",
              "3    1\n",
              "dtype: int64"
            ]
          },
          "metadata": {
            "tags": []
          },
          "execution_count": 34
        }
      ]
    },
    {
      "cell_type": "code",
      "metadata": {
        "colab": {
          "base_uri": "https://localhost:8080/"
        },
        "id": "M3qZ7qKZOn1F",
        "outputId": "7fe1b029-4f5d-4563-b349-ffbad1219084"
      },
      "source": [
        "S.value_counts()"
      ],
      "execution_count": 32,
      "outputs": [
        {
          "output_type": "execute_result",
          "data": {
            "text/plain": [
              "5    2\n",
              "3    2\n",
              "4    1\n",
              "1    1\n",
              "dtype: int64"
            ]
          },
          "metadata": {
            "tags": []
          },
          "execution_count": 32
        }
      ]
    },
    {
      "cell_type": "code",
      "metadata": {
        "colab": {
          "base_uri": "https://localhost:8080/",
          "height": 136
        },
        "id": "be0_JO-TP8dQ",
        "outputId": "9baa0581-d78d-4dcc-8708-41e6090a36e2"
      },
      "source": [
        "df = pd.DataFrame(np.random.randn(10,4)"
      ],
      "execution_count": 39,
      "outputs": [
        {
          "output_type": "error",
          "ename": "SyntaxError",
          "evalue": "ignored",
          "traceback": [
            "\u001b[0;36m  File \u001b[0;32m\"<ipython-input-39-cebda4d45ff4>\"\u001b[0;36m, line \u001b[0;32m1\u001b[0m\n\u001b[0;31m    df = pd.DataFrame(np.random.randn(10,4)\u001b[0m\n\u001b[0m                                           ^\u001b[0m\n\u001b[0;31mSyntaxError\u001b[0m\u001b[0;31m:\u001b[0m unexpected EOF while parsing\n"
          ]
        }
      ]
    },
    {
      "cell_type": "code",
      "metadata": {
        "colab": {
          "base_uri": "https://localhost:8080/",
          "height": 142
        },
        "id": "nhvPSy9bQIhP",
        "outputId": "39b80de8-f05f-4e37-d1e1-894ac3d1360d"
      },
      "source": [
        "df[3:7]"
      ],
      "execution_count": 37,
      "outputs": [
        {
          "output_type": "execute_result",
          "data": {
            "text/html": [
              "<div>\n",
              "<style scoped>\n",
              "    .dataframe tbody tr th:only-of-type {\n",
              "        vertical-align: middle;\n",
              "    }\n",
              "\n",
              "    .dataframe tbody tr th {\n",
              "        vertical-align: top;\n",
              "    }\n",
              "\n",
              "    .dataframe thead th {\n",
              "        text-align: right;\n",
              "    }\n",
              "</style>\n",
              "<table border=\"1\" class=\"dataframe\">\n",
              "  <thead>\n",
              "    <tr style=\"text-align: right;\">\n",
              "      <th></th>\n",
              "      <th>A</th>\n",
              "      <th>B</th>\n",
              "      <th>C</th>\n",
              "      <th>D</th>\n",
              "    </tr>\n",
              "  </thead>\n",
              "  <tbody>\n",
              "    <tr>\n",
              "      <th>2020-11-16</th>\n",
              "      <td>0.363502</td>\n",
              "      <td>-0.808011</td>\n",
              "      <td>0.731721</td>\n",
              "      <td>-0.128779</td>\n",
              "    </tr>\n",
              "    <tr>\n",
              "      <th>2020-11-17</th>\n",
              "      <td>-0.787929</td>\n",
              "      <td>0.400237</td>\n",
              "      <td>2.549744</td>\n",
              "      <td>0.411356</td>\n",
              "    </tr>\n",
              "    <tr>\n",
              "      <th>2020-11-18</th>\n",
              "      <td>-0.099451</td>\n",
              "      <td>-0.609310</td>\n",
              "      <td>-0.312059</td>\n",
              "      <td>-0.978334</td>\n",
              "    </tr>\n",
              "  </tbody>\n",
              "</table>\n",
              "</div>"
            ],
            "text/plain": [
              "                   A         B         C         D\n",
              "2020-11-16  0.363502 -0.808011  0.731721 -0.128779\n",
              "2020-11-17 -0.787929  0.400237  2.549744  0.411356\n",
              "2020-11-18 -0.099451 -0.609310 -0.312059 -0.978334"
            ]
          },
          "metadata": {
            "tags": []
          },
          "execution_count": 37
        }
      ]
    },
    {
      "cell_type": "code",
      "metadata": {
        "colab": {
          "base_uri": "https://localhost:8080/",
          "height": 49
        },
        "id": "X1jtzmYGQYDI",
        "outputId": "80f73526-fddc-48ba-a530-f6320323b58e"
      },
      "source": [
        "df[7:]"
      ],
      "execution_count": 38,
      "outputs": [
        {
          "output_type": "execute_result",
          "data": {
            "text/html": [
              "<div>\n",
              "<style scoped>\n",
              "    .dataframe tbody tr th:only-of-type {\n",
              "        vertical-align: middle;\n",
              "    }\n",
              "\n",
              "    .dataframe tbody tr th {\n",
              "        vertical-align: top;\n",
              "    }\n",
              "\n",
              "    .dataframe thead th {\n",
              "        text-align: right;\n",
              "    }\n",
              "</style>\n",
              "<table border=\"1\" class=\"dataframe\">\n",
              "  <thead>\n",
              "    <tr style=\"text-align: right;\">\n",
              "      <th></th>\n",
              "      <th>A</th>\n",
              "      <th>B</th>\n",
              "      <th>C</th>\n",
              "      <th>D</th>\n",
              "    </tr>\n",
              "  </thead>\n",
              "  <tbody>\n",
              "  </tbody>\n",
              "</table>\n",
              "</div>"
            ],
            "text/plain": [
              "Empty DataFrame\n",
              "Columns: [A, B, C, D]\n",
              "Index: []"
            ]
          },
          "metadata": {
            "tags": []
          },
          "execution_count": 38
        }
      ]
    },
    {
      "cell_type": "code",
      "metadata": {
        "colab": {
          "base_uri": "https://localhost:8080/"
        },
        "id": "z7sby2EvQal-",
        "outputId": "844a027d-876d-48b1-9617-5afe256651c5"
      },
      "source": [
        "pieces = [df[:3], df[3:7], df[7:]]\n",
        "pieces"
      ],
      "execution_count": 42,
      "outputs": [
        {
          "output_type": "execute_result",
          "data": {
            "text/plain": [
              "[                   A         B         C         D\n",
              " 2020-11-13 -1.963307 -0.859548 -1.746795  0.897107\n",
              " 2020-11-14  0.926885  1.108495 -0.859643  2.298300\n",
              " 2020-11-15  0.183506  0.812632  0.054134 -0.959849,\n",
              "                    A         B         C         D\n",
              " 2020-11-16  0.363502 -0.808011  0.731721 -0.128779\n",
              " 2020-11-17 -0.787929  0.400237  2.549744  0.411356\n",
              " 2020-11-18 -0.099451 -0.609310 -0.312059 -0.978334,\n",
              " Empty DataFrame\n",
              " Columns: [A, B, C, D]\n",
              " Index: []]"
            ]
          },
          "metadata": {
            "tags": []
          },
          "execution_count": 42
        }
      ]
    },
    {
      "cell_type": "code",
      "metadata": {
        "colab": {
          "base_uri": "https://localhost:8080/",
          "height": 235
        },
        "id": "wCm4yATMQ3gX",
        "outputId": "5e6c0eae-4790-4b55-b78b-b7a8f0c77d88"
      },
      "source": [
        "pd.concat(pieces)"
      ],
      "execution_count": 45,
      "outputs": [
        {
          "output_type": "execute_result",
          "data": {
            "text/html": [
              "<div>\n",
              "<style scoped>\n",
              "    .dataframe tbody tr th:only-of-type {\n",
              "        vertical-align: middle;\n",
              "    }\n",
              "\n",
              "    .dataframe tbody tr th {\n",
              "        vertical-align: top;\n",
              "    }\n",
              "\n",
              "    .dataframe thead th {\n",
              "        text-align: right;\n",
              "    }\n",
              "</style>\n",
              "<table border=\"1\" class=\"dataframe\">\n",
              "  <thead>\n",
              "    <tr style=\"text-align: right;\">\n",
              "      <th></th>\n",
              "      <th>A</th>\n",
              "      <th>B</th>\n",
              "      <th>C</th>\n",
              "      <th>D</th>\n",
              "    </tr>\n",
              "  </thead>\n",
              "  <tbody>\n",
              "    <tr>\n",
              "      <th>2020-11-13</th>\n",
              "      <td>-1.963307</td>\n",
              "      <td>-0.859548</td>\n",
              "      <td>-1.746795</td>\n",
              "      <td>0.897107</td>\n",
              "    </tr>\n",
              "    <tr>\n",
              "      <th>2020-11-14</th>\n",
              "      <td>0.926885</td>\n",
              "      <td>1.108495</td>\n",
              "      <td>-0.859643</td>\n",
              "      <td>2.298300</td>\n",
              "    </tr>\n",
              "    <tr>\n",
              "      <th>2020-11-15</th>\n",
              "      <td>0.183506</td>\n",
              "      <td>0.812632</td>\n",
              "      <td>0.054134</td>\n",
              "      <td>-0.959849</td>\n",
              "    </tr>\n",
              "    <tr>\n",
              "      <th>2020-11-16</th>\n",
              "      <td>0.363502</td>\n",
              "      <td>-0.808011</td>\n",
              "      <td>0.731721</td>\n",
              "      <td>-0.128779</td>\n",
              "    </tr>\n",
              "    <tr>\n",
              "      <th>2020-11-17</th>\n",
              "      <td>-0.787929</td>\n",
              "      <td>0.400237</td>\n",
              "      <td>2.549744</td>\n",
              "      <td>0.411356</td>\n",
              "    </tr>\n",
              "    <tr>\n",
              "      <th>2020-11-18</th>\n",
              "      <td>-0.099451</td>\n",
              "      <td>-0.609310</td>\n",
              "      <td>-0.312059</td>\n",
              "      <td>-0.978334</td>\n",
              "    </tr>\n",
              "  </tbody>\n",
              "</table>\n",
              "</div>"
            ],
            "text/plain": [
              "                   A         B         C         D\n",
              "2020-11-13 -1.963307 -0.859548 -1.746795  0.897107\n",
              "2020-11-14  0.926885  1.108495 -0.859643  2.298300\n",
              "2020-11-15  0.183506  0.812632  0.054134 -0.959849\n",
              "2020-11-16  0.363502 -0.808011  0.731721 -0.128779\n",
              "2020-11-17 -0.787929  0.400237  2.549744  0.411356\n",
              "2020-11-18 -0.099451 -0.609310 -0.312059 -0.978334"
            ]
          },
          "metadata": {
            "tags": []
          },
          "execution_count": 45
        }
      ]
    },
    {
      "cell_type": "code",
      "metadata": {
        "id": "Ij0LmijNQ_1W"
      },
      "source": [
        "left = pd.DataFrame(\n",
        "    {\n",
        "        'key':['foo', 'foo'], 'lval': [1, 2]\n",
        "     }\n",
        "     )\n",
        "right = pd.DataFrame({'key':['foo', 'foo'], 'rval': [4, 5]})"
      ],
      "execution_count": 47,
      "outputs": []
    },
    {
      "cell_type": "code",
      "metadata": {
        "colab": {
          "base_uri": "https://localhost:8080/",
          "height": 173
        },
        "id": "iIvAw5gbWEzX",
        "outputId": "8a0b4d35-5eeb-4907-82dd-5fbe9fb9713b"
      },
      "source": [
        "pd.merge(left, right, on = 'key')"
      ],
      "execution_count": 48,
      "outputs": [
        {
          "output_type": "execute_result",
          "data": {
            "text/html": [
              "<div>\n",
              "<style scoped>\n",
              "    .dataframe tbody tr th:only-of-type {\n",
              "        vertical-align: middle;\n",
              "    }\n",
              "\n",
              "    .dataframe tbody tr th {\n",
              "        vertical-align: top;\n",
              "    }\n",
              "\n",
              "    .dataframe thead th {\n",
              "        text-align: right;\n",
              "    }\n",
              "</style>\n",
              "<table border=\"1\" class=\"dataframe\">\n",
              "  <thead>\n",
              "    <tr style=\"text-align: right;\">\n",
              "      <th></th>\n",
              "      <th>key</th>\n",
              "      <th>lval</th>\n",
              "      <th>rval</th>\n",
              "    </tr>\n",
              "  </thead>\n",
              "  <tbody>\n",
              "    <tr>\n",
              "      <th>0</th>\n",
              "      <td>foo</td>\n",
              "      <td>1</td>\n",
              "      <td>4</td>\n",
              "    </tr>\n",
              "    <tr>\n",
              "      <th>1</th>\n",
              "      <td>foo</td>\n",
              "      <td>1</td>\n",
              "      <td>5</td>\n",
              "    </tr>\n",
              "    <tr>\n",
              "      <th>2</th>\n",
              "      <td>foo</td>\n",
              "      <td>2</td>\n",
              "      <td>4</td>\n",
              "    </tr>\n",
              "    <tr>\n",
              "      <th>3</th>\n",
              "      <td>foo</td>\n",
              "      <td>2</td>\n",
              "      <td>5</td>\n",
              "    </tr>\n",
              "  </tbody>\n",
              "</table>\n",
              "</div>"
            ],
            "text/plain": [
              "   key  lval  rval\n",
              "0  foo     1     4\n",
              "1  foo     1     5\n",
              "2  foo     2     4\n",
              "3  foo     2     5"
            ]
          },
          "metadata": {
            "tags": []
          },
          "execution_count": 48
        }
      ]
    },
    {
      "cell_type": "code",
      "metadata": {
        "id": "411qF6mOe7OZ"
      },
      "source": [
        "df = pd.DataFrame(np.random.randn(8, 4), columns=['A', 'B', 'C', 'D'])"
      ],
      "execution_count": 49,
      "outputs": []
    },
    {
      "cell_type": "code",
      "metadata": {
        "colab": {
          "base_uri": "https://localhost:8080/",
          "height": 297
        },
        "id": "LsjmOCjnfEy6",
        "outputId": "e3430f55-6e10-4265-fe33-c7f4c504a76e"
      },
      "source": [
        "df"
      ],
      "execution_count": 50,
      "outputs": [
        {
          "output_type": "execute_result",
          "data": {
            "text/html": [
              "<div>\n",
              "<style scoped>\n",
              "    .dataframe tbody tr th:only-of-type {\n",
              "        vertical-align: middle;\n",
              "    }\n",
              "\n",
              "    .dataframe tbody tr th {\n",
              "        vertical-align: top;\n",
              "    }\n",
              "\n",
              "    .dataframe thead th {\n",
              "        text-align: right;\n",
              "    }\n",
              "</style>\n",
              "<table border=\"1\" class=\"dataframe\">\n",
              "  <thead>\n",
              "    <tr style=\"text-align: right;\">\n",
              "      <th></th>\n",
              "      <th>A</th>\n",
              "      <th>B</th>\n",
              "      <th>C</th>\n",
              "      <th>D</th>\n",
              "    </tr>\n",
              "  </thead>\n",
              "  <tbody>\n",
              "    <tr>\n",
              "      <th>0</th>\n",
              "      <td>-0.233583</td>\n",
              "      <td>0.862547</td>\n",
              "      <td>0.479262</td>\n",
              "      <td>0.261056</td>\n",
              "    </tr>\n",
              "    <tr>\n",
              "      <th>1</th>\n",
              "      <td>-1.352825</td>\n",
              "      <td>-1.544542</td>\n",
              "      <td>-1.132696</td>\n",
              "      <td>-0.495270</td>\n",
              "    </tr>\n",
              "    <tr>\n",
              "      <th>2</th>\n",
              "      <td>0.505297</td>\n",
              "      <td>-0.241034</td>\n",
              "      <td>0.240782</td>\n",
              "      <td>0.435384</td>\n",
              "    </tr>\n",
              "    <tr>\n",
              "      <th>3</th>\n",
              "      <td>-0.999358</td>\n",
              "      <td>-0.371177</td>\n",
              "      <td>0.089597</td>\n",
              "      <td>-0.403972</td>\n",
              "    </tr>\n",
              "    <tr>\n",
              "      <th>4</th>\n",
              "      <td>0.023602</td>\n",
              "      <td>0.830046</td>\n",
              "      <td>-0.584650</td>\n",
              "      <td>-0.497928</td>\n",
              "    </tr>\n",
              "    <tr>\n",
              "      <th>5</th>\n",
              "      <td>-1.653680</td>\n",
              "      <td>1.903195</td>\n",
              "      <td>-0.775336</td>\n",
              "      <td>0.000814</td>\n",
              "    </tr>\n",
              "    <tr>\n",
              "      <th>6</th>\n",
              "      <td>-0.566483</td>\n",
              "      <td>0.958787</td>\n",
              "      <td>2.006145</td>\n",
              "      <td>1.042447</td>\n",
              "    </tr>\n",
              "    <tr>\n",
              "      <th>7</th>\n",
              "      <td>-0.170659</td>\n",
              "      <td>1.333832</td>\n",
              "      <td>-0.868292</td>\n",
              "      <td>2.498299</td>\n",
              "    </tr>\n",
              "  </tbody>\n",
              "</table>\n",
              "</div>"
            ],
            "text/plain": [
              "          A         B         C         D\n",
              "0 -0.233583  0.862547  0.479262  0.261056\n",
              "1 -1.352825 -1.544542 -1.132696 -0.495270\n",
              "2  0.505297 -0.241034  0.240782  0.435384\n",
              "3 -0.999358 -0.371177  0.089597 -0.403972\n",
              "4  0.023602  0.830046 -0.584650 -0.497928\n",
              "5 -1.653680  1.903195 -0.775336  0.000814\n",
              "6 -0.566483  0.958787  2.006145  1.042447\n",
              "7 -0.170659  1.333832 -0.868292  2.498299"
            ]
          },
          "metadata": {
            "tags": []
          },
          "execution_count": 50
        }
      ]
    },
    {
      "cell_type": "code",
      "metadata": {
        "id": "drYujJ5VfFr5"
      },
      "source": [
        "s = df.iloc[3]"
      ],
      "execution_count": 51,
      "outputs": []
    },
    {
      "cell_type": "code",
      "metadata": {
        "colab": {
          "base_uri": "https://localhost:8080/"
        },
        "id": "e8Q9TjLbfKBp",
        "outputId": "73847537-4659-4f04-d3d3-feeca19cdefb"
      },
      "source": [
        "s"
      ],
      "execution_count": 52,
      "outputs": [
        {
          "output_type": "execute_result",
          "data": {
            "text/plain": [
              "A   -0.999358\n",
              "B   -0.371177\n",
              "C    0.089597\n",
              "D   -0.403972\n",
              "Name: 3, dtype: float64"
            ]
          },
          "metadata": {
            "tags": []
          },
          "execution_count": 52
        }
      ]
    },
    {
      "cell_type": "code",
      "metadata": {
        "colab": {
          "base_uri": "https://localhost:8080/"
        },
        "id": "_sgiQdUCfLJ5",
        "outputId": "c91f4ca5-e771-4861-add1-1ef0d6502375"
      },
      "source": [
        "print(df.append(s, ignore_index=True))"
      ],
      "execution_count": 53,
      "outputs": [
        {
          "output_type": "stream",
          "text": [
            "          A         B         C         D\n",
            "0 -0.233583  0.862547  0.479262  0.261056\n",
            "1 -1.352825 -1.544542 -1.132696 -0.495270\n",
            "2  0.505297 -0.241034  0.240782  0.435384\n",
            "3 -0.999358 -0.371177  0.089597 -0.403972\n",
            "4  0.023602  0.830046 -0.584650 -0.497928\n",
            "5 -1.653680  1.903195 -0.775336  0.000814\n",
            "6 -0.566483  0.958787  2.006145  1.042447\n",
            "7 -0.170659  1.333832 -0.868292  2.498299\n",
            "8 -0.999358 -0.371177  0.089597 -0.403972\n"
          ],
          "name": "stdout"
        }
      ]
    }
  ]
}