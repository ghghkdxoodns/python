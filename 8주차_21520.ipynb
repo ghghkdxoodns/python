{
  "nbformat": 4,
  "nbformat_minor": 0,
  "metadata": {
    "colab": {
      "name": "8주차 21520.ipynb",
      "provenance": [],
      "collapsed_sections": [],
      "mount_file_id": "1OD_JxLvodnhdpR3mV8Kjl_djZ-tk_mul",
      "authorship_tag": "ABX9TyNfnDqfpfz3oK8GfnigJzfb",
      "include_colab_link": true
    },
    "kernelspec": {
      "name": "python3",
      "display_name": "Python 3"
    },
    "language_info": {
      "name": "python"
    }
  },
  "cells": [
    {
      "cell_type": "markdown",
      "metadata": {
        "id": "view-in-github",
        "colab_type": "text"
      },
      "source": [
        "<a href=\"https://colab.research.google.com/github/ghghkdxoodns/python/blob/main/8%EC%A3%BC%EC%B0%A8_21520.ipynb\" target=\"_parent\"><img src=\"https://colab.research.google.com/assets/colab-badge.svg\" alt=\"Open In Colab\"/></a>"
      ]
    },
    {
      "cell_type": "code",
      "metadata": {
        "id": "WrrgbHD5-vzB"
      },
      "source": [
        "lst_even = list()\n",
        "lst_odd = []\n",
        "\n",
        "for i in range(5) :\n",
        "  num = int(input( '숫자 입력 : '))\n",
        "\n",
        "if num % 2 == 0 :\n",
        "  lst_even.append(num)\n",
        "  else :\n",
        "    lst_odd.append(num)\n",
        "\n",
        "    print (lst_even)\n",
        "    print(lst_odd) \n"
      ],
      "execution_count": null,
      "outputs": []
    },
    {
      "cell_type": "code",
      "metadata": {
        "id": "r0x6_cydBdIL"
      },
      "source": [
        "area = { '서울시':57, '부산시':62, '대구시':59,\n",
        "         '인천시':59, '강화군':58, '서해5도':64,\n",
        "         '광주시':62, '대전시':60, '울산시':53,\n",
        "         '세종시':58 }\n",
        "\n",
        "report = { '위험':'설사, 구토 등 식중독 의심 증상이 있으면 의료기관을 방문하여 의사 지시에 따름',\n",
        "           '경고':'조리도구는 세척, 소독 등을 거쳐 세균 오염을 방지하고 유통기한, 보관 방법 등을 확인하여 음식물 조리, 보관에 각별히 주의하여야 함',\n",
        "           '주의':'조리 음식은 중심부까지 75도(어패류 85도)로 1분 이상 완전히 익히고 외부로 운반할 때에는 가급적 아이스박스 등을 이용하여 10도 이하에서 보관 및 운반',\n",
        "           '관심':'화장실 사용 후, 귀가 후, 조리 전에 손 씻기를 생활화'\n",
        "          }\n",
        "\n",
        "areashow = {}\n",
        "\n",
        "for key, value in area.items():\n",
        "  if value >= 86:     check = '위험'\n",
        "  elif value >= 71 :  check = '경고'\n",
        "  elif value >= 55 :  check = '주의'\n",
        "  else : check = '관심'\n",
        "\n",
        "  areashow[key] = check"
      ],
      "execution_count": 4,
      "outputs": []
    },
    {
      "cell_type": "code",
      "metadata": {
        "id": "gn4ei2nSDEYh"
      },
      "source": [
        "print('지역목록',list(area.keys()))"
      ],
      "execution_count": null,
      "outputs": []
    },
    {
      "cell_type": "code",
      "metadata": {
        "id": "CKPdbzHyDTmQ"
      },
      "source": [
        "indata = input('지역별 대처요령의 지역을 입력하세요 : ')\n",
        " {areashow[indata]} \\n {repprint(f'{indata} : {area[indata]}ort[areashow[indata]]}')"
      ],
      "execution_count": null,
      "outputs": []
    },
    {
      "cell_type": "code",
      "metadata": {
        "id": "6xbBYfV8EtFY"
      },
      "source": [
        "def cal(num1, num2, op) : \n",
        "   ans = 0\n",
        "  if op == '+' : ans = num1 + num2\n",
        "  elif op == '-' : ans = num1 - num2\n",
        "  elif op == 'x' : ans = num1 * num2\n",
        "  elif op == '/' : ans = num1 / num2\n",
        "\n",
        "  print(f'{num1}{op}{num2} = {ans}')"
      ],
      "execution_count": null,
      "outputs": []
    },
    {
      "cell_type": "code",
      "metadata": {
        "id": "_lqaocEkGMYZ"
      },
      "source": [
        "cal(2 + ,3)"
      ],
      "execution_count": null,
      "outputs": []
    },
    {
      "cell_type": "code",
      "metadata": {
        "id": "4DA65lzRHHIX"
      },
      "source": [
        "width = int(input('가로입력 : '))\n",
        "height = int(input('세로입력 : '))\n",
        "\n",
        "area = width * height\n",
        "\n",
        "if width == height : \n",
        "  print(f'정사각형 넓이 : {area}')\n",
        "else : \n",
        "  print(f'직사각형 넓이 : {area}')"
      ],
      "execution_count": null,
      "outputs": []
    },
    {
      "cell_type": "code",
      "metadata": {
        "id": "eA3CMaycLQ1i"
      },
      "source": [
        "path = '/content/drive/My Drive/data/'\n",
        "\n",
        "f = open('지역평균기온.txt')\n",
        "\n",
        "data = f.read()\n",
        "\n",
        "f. close()\n",
        "\n",
        "print(data)"
      ],
      "execution_count": null,
      "outputs": []
    },
    {
      "cell_type": "code",
      "metadata": {
        "colab": {
          "base_uri": "https://localhost:8080/"
        },
        "id": "5pgcCx5IS8x4",
        "outputId": "7dfa9a05-b7d4-4962-f849-91c8628f98ba"
      },
      "source": [
        "fp = open('지역평균기온.txt')\n",
        "\n",
        "data = fp.readlines()\n",
        "\n",
        "fp. close()\n",
        "\n",
        "data"
      ],
      "execution_count": 19,
      "outputs": [
        {
          "output_type": "execute_result",
          "data": {
            "text/plain": [
              "['서울,20\\n',\n",
              " '부산,26\\n',\n",
              " '대구,24\\n',\n",
              " '인천,24\\n',\n",
              " '광주,25\\n',\n",
              " '대전,22\\n',\n",
              " '울산,26\\n',\n",
              " '세종,23\\n',\n",
              " '경기,24\\n',\n",
              " '강원,23\\n',\n",
              " '충북,26\\n',\n",
              " '충남,22\\n',\n",
              " '전북,24\\n',\n",
              " '전남,23\\n',\n",
              " '경북,28\\n',\n",
              " '경남,29\\n',\n",
              " '제주,26']"
            ]
          },
          "metadata": {
            "tags": []
          },
          "execution_count": 19
        }
      ]
    },
    {
      "cell_type": "code",
      "metadata": {
        "colab": {
          "base_uri": "https://localhost:8080/",
          "height": 208
        },
        "id": "o1R_Hk_GUrZO",
        "outputId": "a58ba711-7c29-491a-e660-68f4e6edf920"
      },
      "source": [
        "fp = open('지역평균기온.txt')\n",
        "\n",
        "data = fp.readlines()\n",
        "\n",
        "fp. close()\n",
        "\n",
        "dt = {}\n",
        "dt_list = []\n",
        "\n",
        "for line in data :\n",
        "  line = line.replace('\\n','')\n",
        "  items = line.split(',')\n",
        "  dt[items[0]] = int(items[1])\n",
        "\n",
        "  dt_items"
      ],
      "execution_count": 22,
      "outputs": [
        {
          "output_type": "error",
          "ename": "NameError",
          "evalue": "ignored",
          "traceback": [
            "\u001b[0;31m---------------------------------------------------------------------------\u001b[0m",
            "\u001b[0;31mNameError\u001b[0m                                 Traceback (most recent call last)",
            "\u001b[0;32m<ipython-input-22-e68d32a36f67>\u001b[0m in \u001b[0;36m<module>\u001b[0;34m()\u001b[0m\n\u001b[1;32m     13\u001b[0m   \u001b[0mdt\u001b[0m\u001b[0;34m[\u001b[0m\u001b[0mitems\u001b[0m\u001b[0;34m[\u001b[0m\u001b[0;36m0\u001b[0m\u001b[0;34m]\u001b[0m\u001b[0;34m]\u001b[0m \u001b[0;34m=\u001b[0m \u001b[0mint\u001b[0m\u001b[0;34m(\u001b[0m\u001b[0mitems\u001b[0m\u001b[0;34m[\u001b[0m\u001b[0;36m1\u001b[0m\u001b[0;34m]\u001b[0m\u001b[0;34m)\u001b[0m\u001b[0;34m\u001b[0m\u001b[0;34m\u001b[0m\u001b[0m\n\u001b[1;32m     14\u001b[0m \u001b[0;34m\u001b[0m\u001b[0m\n\u001b[0;32m---> 15\u001b[0;31m   \u001b[0mdt_items\u001b[0m\u001b[0;34m\u001b[0m\u001b[0;34m\u001b[0m\u001b[0m\n\u001b[0m",
            "\u001b[0;31mNameError\u001b[0m: name 'dt_items' is not defined"
          ]
        }
      ]
    }
  ]
}