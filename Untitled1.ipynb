{
  "nbformat": 4,
  "nbformat_minor": 0,
  "metadata": {
    "colab": {
      "name": "Untitled1.ipynb",
      "provenance": [],
      "collapsed_sections": [],
      "authorship_tag": "ABX9TyMC4mCaleVeAnqZyqlePLTM",
      "include_colab_link": true
    },
    "kernelspec": {
      "name": "python3",
      "display_name": "Python 3"
    },
    "language_info": {
      "name": "python"
    }
  },
  "cells": [
    {
      "cell_type": "markdown",
      "metadata": {
        "id": "view-in-github",
        "colab_type": "text"
      },
      "source": [
        "<a href=\"https://colab.research.google.com/github/ghghkdxoodns/python/blob/main/Untitled1.ipynb\" target=\"_parent\"><img src=\"https://colab.research.google.com/assets/colab-badge.svg\" alt=\"Open In Colab\"/></a>"
      ]
    },
    {
      "cell_type": "code",
      "metadata": {
        "id": "iDyhftjPGPj3"
      },
      "source": [
        "import pandas as pd\n",
        "import numpy as np\n",
        "import matplotlib.pyplot as plt"
      ],
      "execution_count": 1,
      "outputs": []
    },
    {
      "cell_type": "code",
      "metadata": {
        "colab": {
          "base_uri": "https://localhost:8080/"
        },
        "id": "zBwCsGMqHdqi",
        "outputId": "05209c22-3352-4545-a087-93469b27fd94"
      },
      "source": [
        "s = pd.Series( [1, 3, 5, np.nan, 6, 8] )\n",
        "print(s)\n",
        "s"
      ],
      "execution_count": 38,
      "outputs": [
        {
          "output_type": "stream",
          "text": [
            "0    1.0\n",
            "1    3.0\n",
            "2    5.0\n",
            "3    NaN\n",
            "4    6.0\n",
            "5    8.0\n",
            "dtype: float64\n"
          ],
          "name": "stdout"
        },
        {
          "output_type": "execute_result",
          "data": {
            "text/plain": [
              "0    1.0\n",
              "1    3.0\n",
              "2    5.0\n",
              "3    NaN\n",
              "4    6.0\n",
              "5    8.0\n",
              "dtype: float64"
            ]
          },
          "metadata": {
            "tags": []
          },
          "execution_count": 38
        }
      ]
    },
    {
      "cell_type": "code",
      "metadata": {
        "colab": {
          "base_uri": "https://localhost:8080/"
        },
        "id": "9cG1tDDSI7oD",
        "outputId": "c08e6ab0-d0a9-4b7a-f8f7-4f561a9342b8"
      },
      "source": [
        "dates = pd.date_range('20210507' , periods=6)\n",
        "dates"
      ],
      "execution_count": 39,
      "outputs": [
        {
          "output_type": "execute_result",
          "data": {
            "text/plain": [
              "DatetimeIndex(['2021-05-07', '2021-05-08', '2021-05-09', '2021-05-10',\n",
              "               '2021-05-11', '2021-05-12'],\n",
              "              dtype='datetime64[ns]', freq='D')"
            ]
          },
          "metadata": {
            "tags": []
          },
          "execution_count": 39
        }
      ]
    },
    {
      "cell_type": "code",
      "metadata": {
        "colab": {
          "base_uri": "https://localhost:8080/",
          "height": 235
        },
        "id": "ZYluG3IhJhpf",
        "outputId": "657315f4-a79f-4186-8970-5367b4d1cdd5"
      },
      "source": [
        "df = pd. DataFrame(np.random. randn (6,4))\n",
        "df"
      ],
      "execution_count": 15,
      "outputs": [
        {
          "output_type": "execute_result",
          "data": {
            "text/html": [
              "<div>\n",
              "<style scoped>\n",
              "    .dataframe tbody tr th:only-of-type {\n",
              "        vertical-align: middle;\n",
              "    }\n",
              "\n",
              "    .dataframe tbody tr th {\n",
              "        vertical-align: top;\n",
              "    }\n",
              "\n",
              "    .dataframe thead th {\n",
              "        text-align: right;\n",
              "    }\n",
              "</style>\n",
              "<table border=\"1\" class=\"dataframe\">\n",
              "  <thead>\n",
              "    <tr style=\"text-align: right;\">\n",
              "      <th></th>\n",
              "      <th>0</th>\n",
              "      <th>1</th>\n",
              "      <th>2</th>\n",
              "      <th>3</th>\n",
              "    </tr>\n",
              "  </thead>\n",
              "  <tbody>\n",
              "    <tr>\n",
              "      <th>0</th>\n",
              "      <td>-2.299846</td>\n",
              "      <td>1.094764</td>\n",
              "      <td>-0.799464</td>\n",
              "      <td>-1.834720</td>\n",
              "    </tr>\n",
              "    <tr>\n",
              "      <th>1</th>\n",
              "      <td>-1.107121</td>\n",
              "      <td>1.029373</td>\n",
              "      <td>0.512474</td>\n",
              "      <td>-0.782756</td>\n",
              "    </tr>\n",
              "    <tr>\n",
              "      <th>2</th>\n",
              "      <td>1.140402</td>\n",
              "      <td>0.568290</td>\n",
              "      <td>2.149422</td>\n",
              "      <td>-0.828023</td>\n",
              "    </tr>\n",
              "    <tr>\n",
              "      <th>3</th>\n",
              "      <td>-0.617204</td>\n",
              "      <td>0.183022</td>\n",
              "      <td>-1.512108</td>\n",
              "      <td>0.213375</td>\n",
              "    </tr>\n",
              "    <tr>\n",
              "      <th>4</th>\n",
              "      <td>-0.485027</td>\n",
              "      <td>-0.318074</td>\n",
              "      <td>-1.539433</td>\n",
              "      <td>0.115729</td>\n",
              "    </tr>\n",
              "    <tr>\n",
              "      <th>5</th>\n",
              "      <td>0.359154</td>\n",
              "      <td>1.070215</td>\n",
              "      <td>0.791585</td>\n",
              "      <td>-0.708011</td>\n",
              "    </tr>\n",
              "  </tbody>\n",
              "</table>\n",
              "</div>"
            ],
            "text/plain": [
              "          0         1         2         3\n",
              "0 -2.299846  1.094764 -0.799464 -1.834720\n",
              "1 -1.107121  1.029373  0.512474 -0.782756\n",
              "2  1.140402  0.568290  2.149422 -0.828023\n",
              "3 -0.617204  0.183022 -1.512108  0.213375\n",
              "4 -0.485027 -0.318074 -1.539433  0.115729\n",
              "5  0.359154  1.070215  0.791585 -0.708011"
            ]
          },
          "metadata": {
            "tags": []
          },
          "execution_count": 15
        }
      ]
    },
    {
      "cell_type": "code",
      "metadata": {
        "colab": {
          "base_uri": "https://localhost:8080/",
          "height": 235
        },
        "id": "cayibQC6KMt_",
        "outputId": "3a21d123-1eba-4d5c-98e2-f2b8a2acd3c9"
      },
      "source": [
        "df = pd. DataFrame(np.random. randn (6,4), index=dates)\n",
        "df"
      ],
      "execution_count": 14,
      "outputs": [
        {
          "output_type": "execute_result",
          "data": {
            "text/html": [
              "<div>\n",
              "<style scoped>\n",
              "    .dataframe tbody tr th:only-of-type {\n",
              "        vertical-align: middle;\n",
              "    }\n",
              "\n",
              "    .dataframe tbody tr th {\n",
              "        vertical-align: top;\n",
              "    }\n",
              "\n",
              "    .dataframe thead th {\n",
              "        text-align: right;\n",
              "    }\n",
              "</style>\n",
              "<table border=\"1\" class=\"dataframe\">\n",
              "  <thead>\n",
              "    <tr style=\"text-align: right;\">\n",
              "      <th></th>\n",
              "      <th>0</th>\n",
              "      <th>1</th>\n",
              "      <th>2</th>\n",
              "      <th>3</th>\n",
              "    </tr>\n",
              "  </thead>\n",
              "  <tbody>\n",
              "    <tr>\n",
              "      <th>1970-01-01 00:00:00.020210507</th>\n",
              "      <td>0.379249</td>\n",
              "      <td>0.810094</td>\n",
              "      <td>-1.021874</td>\n",
              "      <td>0.842669</td>\n",
              "    </tr>\n",
              "    <tr>\n",
              "      <th>1970-01-02 00:00:00.020210507</th>\n",
              "      <td>0.779553</td>\n",
              "      <td>-0.262229</td>\n",
              "      <td>-0.354616</td>\n",
              "      <td>0.135461</td>\n",
              "    </tr>\n",
              "    <tr>\n",
              "      <th>1970-01-03 00:00:00.020210507</th>\n",
              "      <td>-2.011881</td>\n",
              "      <td>-0.771128</td>\n",
              "      <td>-1.825895</td>\n",
              "      <td>-0.377376</td>\n",
              "    </tr>\n",
              "    <tr>\n",
              "      <th>1970-01-04 00:00:00.020210507</th>\n",
              "      <td>0.117029</td>\n",
              "      <td>1.802009</td>\n",
              "      <td>-0.664832</td>\n",
              "      <td>-0.049816</td>\n",
              "    </tr>\n",
              "    <tr>\n",
              "      <th>1970-01-05 00:00:00.020210507</th>\n",
              "      <td>-1.258301</td>\n",
              "      <td>-0.463520</td>\n",
              "      <td>-1.141369</td>\n",
              "      <td>-0.536003</td>\n",
              "    </tr>\n",
              "    <tr>\n",
              "      <th>1970-01-06 00:00:00.020210507</th>\n",
              "      <td>0.795839</td>\n",
              "      <td>-0.227453</td>\n",
              "      <td>0.225345</td>\n",
              "      <td>0.322114</td>\n",
              "    </tr>\n",
              "  </tbody>\n",
              "</table>\n",
              "</div>"
            ],
            "text/plain": [
              "                                      0         1         2         3\n",
              "1970-01-01 00:00:00.020210507  0.379249  0.810094 -1.021874  0.842669\n",
              "1970-01-02 00:00:00.020210507  0.779553 -0.262229 -0.354616  0.135461\n",
              "1970-01-03 00:00:00.020210507 -2.011881 -0.771128 -1.825895 -0.377376\n",
              "1970-01-04 00:00:00.020210507  0.117029  1.802009 -0.664832 -0.049816\n",
              "1970-01-05 00:00:00.020210507 -1.258301 -0.463520 -1.141369 -0.536003\n",
              "1970-01-06 00:00:00.020210507  0.795839 -0.227453  0.225345  0.322114"
            ]
          },
          "metadata": {
            "tags": []
          },
          "execution_count": 14
        }
      ]
    },
    {
      "cell_type": "code",
      "metadata": {
        "colab": {
          "base_uri": "https://localhost:8080/",
          "height": 235
        },
        "id": "VoElP5x5K6v_",
        "outputId": "275ccc5b-da0a-44b6-fc48-19ec1c43a53f"
      },
      "source": [
        "df = pd.DataFrame(np.random.randn(6,4), index=dates, columns=list('ABCD'))\n",
        "df"
      ],
      "execution_count": 18,
      "outputs": [
        {
          "output_type": "execute_result",
          "data": {
            "text/html": [
              "<div>\n",
              "<style scoped>\n",
              "    .dataframe tbody tr th:only-of-type {\n",
              "        vertical-align: middle;\n",
              "    }\n",
              "\n",
              "    .dataframe tbody tr th {\n",
              "        vertical-align: top;\n",
              "    }\n",
              "\n",
              "    .dataframe thead th {\n",
              "        text-align: right;\n",
              "    }\n",
              "</style>\n",
              "<table border=\"1\" class=\"dataframe\">\n",
              "  <thead>\n",
              "    <tr style=\"text-align: right;\">\n",
              "      <th></th>\n",
              "      <th>A</th>\n",
              "      <th>B</th>\n",
              "      <th>C</th>\n",
              "      <th>D</th>\n",
              "    </tr>\n",
              "  </thead>\n",
              "  <tbody>\n",
              "    <tr>\n",
              "      <th>1970-01-01 00:00:00.020210507</th>\n",
              "      <td>0.582069</td>\n",
              "      <td>-0.053045</td>\n",
              "      <td>0.103758</td>\n",
              "      <td>-0.404378</td>\n",
              "    </tr>\n",
              "    <tr>\n",
              "      <th>1970-01-02 00:00:00.020210507</th>\n",
              "      <td>-1.871162</td>\n",
              "      <td>-0.916233</td>\n",
              "      <td>0.191765</td>\n",
              "      <td>-0.054143</td>\n",
              "    </tr>\n",
              "    <tr>\n",
              "      <th>1970-01-03 00:00:00.020210507</th>\n",
              "      <td>1.354301</td>\n",
              "      <td>-1.258379</td>\n",
              "      <td>1.061683</td>\n",
              "      <td>0.769704</td>\n",
              "    </tr>\n",
              "    <tr>\n",
              "      <th>1970-01-04 00:00:00.020210507</th>\n",
              "      <td>-0.979992</td>\n",
              "      <td>0.111152</td>\n",
              "      <td>-0.258456</td>\n",
              "      <td>-0.575665</td>\n",
              "    </tr>\n",
              "    <tr>\n",
              "      <th>1970-01-05 00:00:00.020210507</th>\n",
              "      <td>-0.466762</td>\n",
              "      <td>-0.011605</td>\n",
              "      <td>0.548530</td>\n",
              "      <td>-0.187398</td>\n",
              "    </tr>\n",
              "    <tr>\n",
              "      <th>1970-01-06 00:00:00.020210507</th>\n",
              "      <td>-0.807876</td>\n",
              "      <td>0.042032</td>\n",
              "      <td>0.062055</td>\n",
              "      <td>-0.063781</td>\n",
              "    </tr>\n",
              "  </tbody>\n",
              "</table>\n",
              "</div>"
            ],
            "text/plain": [
              "                                      A         B         C         D\n",
              "1970-01-01 00:00:00.020210507  0.582069 -0.053045  0.103758 -0.404378\n",
              "1970-01-02 00:00:00.020210507 -1.871162 -0.916233  0.191765 -0.054143\n",
              "1970-01-03 00:00:00.020210507  1.354301 -1.258379  1.061683  0.769704\n",
              "1970-01-04 00:00:00.020210507 -0.979992  0.111152 -0.258456 -0.575665\n",
              "1970-01-05 00:00:00.020210507 -0.466762 -0.011605  0.548530 -0.187398\n",
              "1970-01-06 00:00:00.020210507 -0.807876  0.042032  0.062055 -0.063781"
            ]
          },
          "metadata": {
            "tags": []
          },
          "execution_count": 18
        }
      ]
    },
    {
      "cell_type": "code",
      "metadata": {
        "colab": {
          "base_uri": "https://localhost:8080/",
          "height": 173
        },
        "id": "-6YLkCXULTqH",
        "outputId": "bb75b53d-8b0c-48fa-9784-e2e7faa13468"
      },
      "source": [
        "df2 = pd.DataFrame(\n",
        "    {\n",
        "        'A': 1.,\n",
        "        'B': pd.Timestamp('20201113'),\n",
        "        'C': pd.Series(1, index=list(range(4)), dtype='float32'),\n",
        "        'D': np.array([3] * 4, dtype='int32'),\n",
        "        'E': pd.Categorical([\"test\", \"train\", \"test\", \"train\"]),\n",
        "        'F': 'foo'\n",
        "     }\n",
        ")\n",
        "df2"
      ],
      "execution_count": 36,
      "outputs": [
        {
          "output_type": "execute_result",
          "data": {
            "text/html": [
              "<div>\n",
              "<style scoped>\n",
              "    .dataframe tbody tr th:only-of-type {\n",
              "        vertical-align: middle;\n",
              "    }\n",
              "\n",
              "    .dataframe tbody tr th {\n",
              "        vertical-align: top;\n",
              "    }\n",
              "\n",
              "    .dataframe thead th {\n",
              "        text-align: right;\n",
              "    }\n",
              "</style>\n",
              "<table border=\"1\" class=\"dataframe\">\n",
              "  <thead>\n",
              "    <tr style=\"text-align: right;\">\n",
              "      <th></th>\n",
              "      <th>A</th>\n",
              "      <th>B</th>\n",
              "      <th>C</th>\n",
              "      <th>D</th>\n",
              "      <th>E</th>\n",
              "      <th>F</th>\n",
              "    </tr>\n",
              "  </thead>\n",
              "  <tbody>\n",
              "    <tr>\n",
              "      <th>0</th>\n",
              "      <td>1.0</td>\n",
              "      <td>2020-11-13</td>\n",
              "      <td>1.0</td>\n",
              "      <td>3</td>\n",
              "      <td>test</td>\n",
              "      <td>foo</td>\n",
              "    </tr>\n",
              "    <tr>\n",
              "      <th>1</th>\n",
              "      <td>1.0</td>\n",
              "      <td>2020-11-13</td>\n",
              "      <td>1.0</td>\n",
              "      <td>3</td>\n",
              "      <td>train</td>\n",
              "      <td>foo</td>\n",
              "    </tr>\n",
              "    <tr>\n",
              "      <th>2</th>\n",
              "      <td>1.0</td>\n",
              "      <td>2020-11-13</td>\n",
              "      <td>1.0</td>\n",
              "      <td>3</td>\n",
              "      <td>test</td>\n",
              "      <td>foo</td>\n",
              "    </tr>\n",
              "    <tr>\n",
              "      <th>3</th>\n",
              "      <td>1.0</td>\n",
              "      <td>2020-11-13</td>\n",
              "      <td>1.0</td>\n",
              "      <td>3</td>\n",
              "      <td>train</td>\n",
              "      <td>foo</td>\n",
              "    </tr>\n",
              "  </tbody>\n",
              "</table>\n",
              "</div>"
            ],
            "text/plain": [
              "     A          B    C  D      E    F\n",
              "0  1.0 2020-11-13  1.0  3   test  foo\n",
              "1  1.0 2020-11-13  1.0  3  train  foo\n",
              "2  1.0 2020-11-13  1.0  3   test  foo\n",
              "3  1.0 2020-11-13  1.0  3  train  foo"
            ]
          },
          "metadata": {
            "tags": []
          },
          "execution_count": 36
        }
      ]
    },
    {
      "cell_type": "code",
      "metadata": {
        "colab": {
          "base_uri": "https://localhost:8080/",
          "height": 111
        },
        "id": "gGDe8XomM51n",
        "outputId": "c9a11dea-3882-4208-9ebb-5da6a17ff625"
      },
      "source": [
        "df.tail(2)"
      ],
      "execution_count": 25,
      "outputs": [
        {
          "output_type": "execute_result",
          "data": {
            "text/html": [
              "<div>\n",
              "<style scoped>\n",
              "    .dataframe tbody tr th:only-of-type {\n",
              "        vertical-align: middle;\n",
              "    }\n",
              "\n",
              "    .dataframe tbody tr th {\n",
              "        vertical-align: top;\n",
              "    }\n",
              "\n",
              "    .dataframe thead th {\n",
              "        text-align: right;\n",
              "    }\n",
              "</style>\n",
              "<table border=\"1\" class=\"dataframe\">\n",
              "  <thead>\n",
              "    <tr style=\"text-align: right;\">\n",
              "      <th></th>\n",
              "      <th>A</th>\n",
              "      <th>B</th>\n",
              "      <th>C</th>\n",
              "      <th>D</th>\n",
              "    </tr>\n",
              "  </thead>\n",
              "  <tbody>\n",
              "    <tr>\n",
              "      <th>1970-01-05 00:00:00.020210507</th>\n",
              "      <td>-0.466762</td>\n",
              "      <td>-0.011605</td>\n",
              "      <td>0.548530</td>\n",
              "      <td>-0.187398</td>\n",
              "    </tr>\n",
              "    <tr>\n",
              "      <th>1970-01-06 00:00:00.020210507</th>\n",
              "      <td>-0.807876</td>\n",
              "      <td>0.042032</td>\n",
              "      <td>0.062055</td>\n",
              "      <td>-0.063781</td>\n",
              "    </tr>\n",
              "  </tbody>\n",
              "</table>\n",
              "</div>"
            ],
            "text/plain": [
              "                                      A         B         C         D\n",
              "1970-01-05 00:00:00.020210507 -0.466762 -0.011605  0.548530 -0.187398\n",
              "1970-01-06 00:00:00.020210507 -0.807876  0.042032  0.062055 -0.063781"
            ]
          },
          "metadata": {
            "tags": []
          },
          "execution_count": 25
        }
      ]
    },
    {
      "cell_type": "code",
      "metadata": {
        "colab": {
          "base_uri": "https://localhost:8080/",
          "height": 235
        },
        "id": "GporoY_aNsId",
        "outputId": "e1445a21-70da-4453-81be-fe50adcec594"
      },
      "source": [
        "df"
      ],
      "execution_count": 24,
      "outputs": [
        {
          "output_type": "execute_result",
          "data": {
            "text/html": [
              "<div>\n",
              "<style scoped>\n",
              "    .dataframe tbody tr th:only-of-type {\n",
              "        vertical-align: middle;\n",
              "    }\n",
              "\n",
              "    .dataframe tbody tr th {\n",
              "        vertical-align: top;\n",
              "    }\n",
              "\n",
              "    .dataframe thead th {\n",
              "        text-align: right;\n",
              "    }\n",
              "</style>\n",
              "<table border=\"1\" class=\"dataframe\">\n",
              "  <thead>\n",
              "    <tr style=\"text-align: right;\">\n",
              "      <th></th>\n",
              "      <th>A</th>\n",
              "      <th>B</th>\n",
              "      <th>C</th>\n",
              "      <th>D</th>\n",
              "    </tr>\n",
              "  </thead>\n",
              "  <tbody>\n",
              "    <tr>\n",
              "      <th>1970-01-01 00:00:00.020210507</th>\n",
              "      <td>0.582069</td>\n",
              "      <td>-0.053045</td>\n",
              "      <td>0.103758</td>\n",
              "      <td>-0.404378</td>\n",
              "    </tr>\n",
              "    <tr>\n",
              "      <th>1970-01-02 00:00:00.020210507</th>\n",
              "      <td>-1.871162</td>\n",
              "      <td>-0.916233</td>\n",
              "      <td>0.191765</td>\n",
              "      <td>-0.054143</td>\n",
              "    </tr>\n",
              "    <tr>\n",
              "      <th>1970-01-03 00:00:00.020210507</th>\n",
              "      <td>1.354301</td>\n",
              "      <td>-1.258379</td>\n",
              "      <td>1.061683</td>\n",
              "      <td>0.769704</td>\n",
              "    </tr>\n",
              "    <tr>\n",
              "      <th>1970-01-04 00:00:00.020210507</th>\n",
              "      <td>-0.979992</td>\n",
              "      <td>0.111152</td>\n",
              "      <td>-0.258456</td>\n",
              "      <td>-0.575665</td>\n",
              "    </tr>\n",
              "    <tr>\n",
              "      <th>1970-01-05 00:00:00.020210507</th>\n",
              "      <td>-0.466762</td>\n",
              "      <td>-0.011605</td>\n",
              "      <td>0.548530</td>\n",
              "      <td>-0.187398</td>\n",
              "    </tr>\n",
              "    <tr>\n",
              "      <th>1970-01-06 00:00:00.020210507</th>\n",
              "      <td>-0.807876</td>\n",
              "      <td>0.042032</td>\n",
              "      <td>0.062055</td>\n",
              "      <td>-0.063781</td>\n",
              "    </tr>\n",
              "  </tbody>\n",
              "</table>\n",
              "</div>"
            ],
            "text/plain": [
              "                                      A         B         C         D\n",
              "1970-01-01 00:00:00.020210507  0.582069 -0.053045  0.103758 -0.404378\n",
              "1970-01-02 00:00:00.020210507 -1.871162 -0.916233  0.191765 -0.054143\n",
              "1970-01-03 00:00:00.020210507  1.354301 -1.258379  1.061683  0.769704\n",
              "1970-01-04 00:00:00.020210507 -0.979992  0.111152 -0.258456 -0.575665\n",
              "1970-01-05 00:00:00.020210507 -0.466762 -0.011605  0.548530 -0.187398\n",
              "1970-01-06 00:00:00.020210507 -0.807876  0.042032  0.062055 -0.063781"
            ]
          },
          "metadata": {
            "tags": []
          },
          "execution_count": 24
        }
      ]
    },
    {
      "cell_type": "code",
      "metadata": {
        "colab": {
          "base_uri": "https://localhost:8080/"
        },
        "id": "btlwoS0CNs4M",
        "outputId": "a785bf53-4141-430f-8408-35c108d2e789"
      },
      "source": [
        "df.index"
      ],
      "execution_count": 26,
      "outputs": [
        {
          "output_type": "execute_result",
          "data": {
            "text/plain": [
              "DatetimeIndex(['1970-01-01 00:00:00.020210507',\n",
              "               '1970-01-02 00:00:00.020210507',\n",
              "               '1970-01-03 00:00:00.020210507',\n",
              "               '1970-01-04 00:00:00.020210507',\n",
              "               '1970-01-05 00:00:00.020210507',\n",
              "               '1970-01-06 00:00:00.020210507'],\n",
              "              dtype='datetime64[ns]', freq='D')"
            ]
          },
          "metadata": {
            "tags": []
          },
          "execution_count": 26
        }
      ]
    },
    {
      "cell_type": "code",
      "metadata": {
        "colab": {
          "base_uri": "https://localhost:8080/"
        },
        "id": "G4n4QhS-Nz4s",
        "outputId": "ac33373d-15a6-48a0-ed00-33185adb3c96"
      },
      "source": [
        "df.columns"
      ],
      "execution_count": 27,
      "outputs": [
        {
          "output_type": "execute_result",
          "data": {
            "text/plain": [
              "Index(['A', 'B', 'C', 'D'], dtype='object')"
            ]
          },
          "metadata": {
            "tags": []
          },
          "execution_count": 27
        }
      ]
    },
    {
      "cell_type": "code",
      "metadata": {
        "colab": {
          "base_uri": "https://localhost:8080/"
        },
        "id": "dQ_SHqFZN3T8",
        "outputId": "a11d9338-072f-4d77-c2fd-2eb12e0486ac"
      },
      "source": [
        "df.values"
      ],
      "execution_count": 29,
      "outputs": [
        {
          "output_type": "execute_result",
          "data": {
            "text/plain": [
              "array([[ 0.58206861, -0.05304493,  0.10375788, -0.40437814],\n",
              "       [-1.8711623 , -0.91623332,  0.1917647 , -0.05414339],\n",
              "       [ 1.3543008 , -1.25837871,  1.06168251,  0.76970448],\n",
              "       [-0.97999187,  0.11115172, -0.25845649, -0.57566465],\n",
              "       [-0.46676185, -0.01160493,  0.54853044, -0.18739781],\n",
              "       [-0.80787595,  0.04203166,  0.06205516, -0.06378052]])"
            ]
          },
          "metadata": {
            "tags": []
          },
          "execution_count": 29
        }
      ]
    },
    {
      "cell_type": "code",
      "metadata": {
        "colab": {
          "base_uri": "https://localhost:8080/",
          "height": 297
        },
        "id": "fWr584GYOIN7",
        "outputId": "8221c3e6-f21b-4e41-b6b1-ad655c4fa71e"
      },
      "source": [
        "df.describe()"
      ],
      "execution_count": 32,
      "outputs": [
        {
          "output_type": "execute_result",
          "data": {
            "text/html": [
              "<div>\n",
              "<style scoped>\n",
              "    .dataframe tbody tr th:only-of-type {\n",
              "        vertical-align: middle;\n",
              "    }\n",
              "\n",
              "    .dataframe tbody tr th {\n",
              "        vertical-align: top;\n",
              "    }\n",
              "\n",
              "    .dataframe thead th {\n",
              "        text-align: right;\n",
              "    }\n",
              "</style>\n",
              "<table border=\"1\" class=\"dataframe\">\n",
              "  <thead>\n",
              "    <tr style=\"text-align: right;\">\n",
              "      <th></th>\n",
              "      <th>A</th>\n",
              "      <th>B</th>\n",
              "      <th>C</th>\n",
              "      <th>D</th>\n",
              "    </tr>\n",
              "  </thead>\n",
              "  <tbody>\n",
              "    <tr>\n",
              "      <th>count</th>\n",
              "      <td>6.000000</td>\n",
              "      <td>6.000000</td>\n",
              "      <td>6.000000</td>\n",
              "      <td>6.000000</td>\n",
              "    </tr>\n",
              "    <tr>\n",
              "      <th>mean</th>\n",
              "      <td>-0.364904</td>\n",
              "      <td>-0.347680</td>\n",
              "      <td>0.284889</td>\n",
              "      <td>-0.085943</td>\n",
              "    </tr>\n",
              "    <tr>\n",
              "      <th>std</th>\n",
              "      <td>1.158116</td>\n",
              "      <td>0.585625</td>\n",
              "      <td>0.460277</td>\n",
              "      <td>0.465866</td>\n",
              "    </tr>\n",
              "    <tr>\n",
              "      <th>min</th>\n",
              "      <td>-1.871162</td>\n",
              "      <td>-1.258379</td>\n",
              "      <td>-0.258456</td>\n",
              "      <td>-0.575665</td>\n",
              "    </tr>\n",
              "    <tr>\n",
              "      <th>25%</th>\n",
              "      <td>-0.936963</td>\n",
              "      <td>-0.700436</td>\n",
              "      <td>0.072481</td>\n",
              "      <td>-0.350133</td>\n",
              "    </tr>\n",
              "    <tr>\n",
              "      <th>50%</th>\n",
              "      <td>-0.637319</td>\n",
              "      <td>-0.032325</td>\n",
              "      <td>0.147761</td>\n",
              "      <td>-0.125589</td>\n",
              "    </tr>\n",
              "    <tr>\n",
              "      <th>75%</th>\n",
              "      <td>0.319861</td>\n",
              "      <td>0.028623</td>\n",
              "      <td>0.459339</td>\n",
              "      <td>-0.056553</td>\n",
              "    </tr>\n",
              "    <tr>\n",
              "      <th>max</th>\n",
              "      <td>1.354301</td>\n",
              "      <td>0.111152</td>\n",
              "      <td>1.061683</td>\n",
              "      <td>0.769704</td>\n",
              "    </tr>\n",
              "  </tbody>\n",
              "</table>\n",
              "</div>"
            ],
            "text/plain": [
              "              A         B         C         D\n",
              "count  6.000000  6.000000  6.000000  6.000000\n",
              "mean  -0.364904 -0.347680  0.284889 -0.085943\n",
              "std    1.158116  0.585625  0.460277  0.465866\n",
              "min   -1.871162 -1.258379 -0.258456 -0.575665\n",
              "25%   -0.936963 -0.700436  0.072481 -0.350133\n",
              "50%   -0.637319 -0.032325  0.147761 -0.125589\n",
              "75%    0.319861  0.028623  0.459339 -0.056553\n",
              "max    1.354301  0.111152  1.061683  0.769704"
            ]
          },
          "metadata": {
            "tags": []
          },
          "execution_count": 32
        }
      ]
    },
    {
      "cell_type": "code",
      "metadata": {
        "colab": {
          "base_uri": "https://localhost:8080/",
          "height": 235
        },
        "id": "0c4MEbkuOKVL",
        "outputId": "6f3cc786-5512-4552-fd68-ba52f9f54576"
      },
      "source": [
        "df"
      ],
      "execution_count": 33,
      "outputs": [
        {
          "output_type": "execute_result",
          "data": {
            "text/html": [
              "<div>\n",
              "<style scoped>\n",
              "    .dataframe tbody tr th:only-of-type {\n",
              "        vertical-align: middle;\n",
              "    }\n",
              "\n",
              "    .dataframe tbody tr th {\n",
              "        vertical-align: top;\n",
              "    }\n",
              "\n",
              "    .dataframe thead th {\n",
              "        text-align: right;\n",
              "    }\n",
              "</style>\n",
              "<table border=\"1\" class=\"dataframe\">\n",
              "  <thead>\n",
              "    <tr style=\"text-align: right;\">\n",
              "      <th></th>\n",
              "      <th>A</th>\n",
              "      <th>B</th>\n",
              "      <th>C</th>\n",
              "      <th>D</th>\n",
              "    </tr>\n",
              "  </thead>\n",
              "  <tbody>\n",
              "    <tr>\n",
              "      <th>1970-01-01 00:00:00.020210507</th>\n",
              "      <td>0.582069</td>\n",
              "      <td>-0.053045</td>\n",
              "      <td>0.103758</td>\n",
              "      <td>-0.404378</td>\n",
              "    </tr>\n",
              "    <tr>\n",
              "      <th>1970-01-02 00:00:00.020210507</th>\n",
              "      <td>-1.871162</td>\n",
              "      <td>-0.916233</td>\n",
              "      <td>0.191765</td>\n",
              "      <td>-0.054143</td>\n",
              "    </tr>\n",
              "    <tr>\n",
              "      <th>1970-01-03 00:00:00.020210507</th>\n",
              "      <td>1.354301</td>\n",
              "      <td>-1.258379</td>\n",
              "      <td>1.061683</td>\n",
              "      <td>0.769704</td>\n",
              "    </tr>\n",
              "    <tr>\n",
              "      <th>1970-01-04 00:00:00.020210507</th>\n",
              "      <td>-0.979992</td>\n",
              "      <td>0.111152</td>\n",
              "      <td>-0.258456</td>\n",
              "      <td>-0.575665</td>\n",
              "    </tr>\n",
              "    <tr>\n",
              "      <th>1970-01-05 00:00:00.020210507</th>\n",
              "      <td>-0.466762</td>\n",
              "      <td>-0.011605</td>\n",
              "      <td>0.548530</td>\n",
              "      <td>-0.187398</td>\n",
              "    </tr>\n",
              "    <tr>\n",
              "      <th>1970-01-06 00:00:00.020210507</th>\n",
              "      <td>-0.807876</td>\n",
              "      <td>0.042032</td>\n",
              "      <td>0.062055</td>\n",
              "      <td>-0.063781</td>\n",
              "    </tr>\n",
              "  </tbody>\n",
              "</table>\n",
              "</div>"
            ],
            "text/plain": [
              "                                      A         B         C         D\n",
              "1970-01-01 00:00:00.020210507  0.582069 -0.053045  0.103758 -0.404378\n",
              "1970-01-02 00:00:00.020210507 -1.871162 -0.916233  0.191765 -0.054143\n",
              "1970-01-03 00:00:00.020210507  1.354301 -1.258379  1.061683  0.769704\n",
              "1970-01-04 00:00:00.020210507 -0.979992  0.111152 -0.258456 -0.575665\n",
              "1970-01-05 00:00:00.020210507 -0.466762 -0.011605  0.548530 -0.187398\n",
              "1970-01-06 00:00:00.020210507 -0.807876  0.042032  0.062055 -0.063781"
            ]
          },
          "metadata": {
            "tags": []
          },
          "execution_count": 33
        }
      ]
    },
    {
      "cell_type": "code",
      "metadata": {
        "colab": {
          "base_uri": "https://localhost:8080/",
          "height": 210
        },
        "id": "WrROH6aoO0QL",
        "outputId": "6eab69e3-e0f3-4d8b-d57c-68868d796898"
      },
      "source": [
        "df.T"
      ],
      "execution_count": 35,
      "outputs": [
        {
          "output_type": "execute_result",
          "data": {
            "text/html": [
              "<div>\n",
              "<style scoped>\n",
              "    .dataframe tbody tr th:only-of-type {\n",
              "        vertical-align: middle;\n",
              "    }\n",
              "\n",
              "    .dataframe tbody tr th {\n",
              "        vertical-align: top;\n",
              "    }\n",
              "\n",
              "    .dataframe thead th {\n",
              "        text-align: right;\n",
              "    }\n",
              "</style>\n",
              "<table border=\"1\" class=\"dataframe\">\n",
              "  <thead>\n",
              "    <tr style=\"text-align: right;\">\n",
              "      <th></th>\n",
              "      <th>1970-01-01 00:00:00.020210507</th>\n",
              "      <th>1970-01-02 00:00:00.020210507</th>\n",
              "      <th>1970-01-03 00:00:00.020210507</th>\n",
              "      <th>1970-01-04 00:00:00.020210507</th>\n",
              "      <th>1970-01-05 00:00:00.020210507</th>\n",
              "      <th>1970-01-06 00:00:00.020210507</th>\n",
              "    </tr>\n",
              "  </thead>\n",
              "  <tbody>\n",
              "    <tr>\n",
              "      <th>A</th>\n",
              "      <td>0.582069</td>\n",
              "      <td>-1.871162</td>\n",
              "      <td>1.354301</td>\n",
              "      <td>-0.979992</td>\n",
              "      <td>-0.466762</td>\n",
              "      <td>-0.807876</td>\n",
              "    </tr>\n",
              "    <tr>\n",
              "      <th>B</th>\n",
              "      <td>-0.053045</td>\n",
              "      <td>-0.916233</td>\n",
              "      <td>-1.258379</td>\n",
              "      <td>0.111152</td>\n",
              "      <td>-0.011605</td>\n",
              "      <td>0.042032</td>\n",
              "    </tr>\n",
              "    <tr>\n",
              "      <th>C</th>\n",
              "      <td>0.103758</td>\n",
              "      <td>0.191765</td>\n",
              "      <td>1.061683</td>\n",
              "      <td>-0.258456</td>\n",
              "      <td>0.548530</td>\n",
              "      <td>0.062055</td>\n",
              "    </tr>\n",
              "    <tr>\n",
              "      <th>D</th>\n",
              "      <td>-0.404378</td>\n",
              "      <td>-0.054143</td>\n",
              "      <td>0.769704</td>\n",
              "      <td>-0.575665</td>\n",
              "      <td>-0.187398</td>\n",
              "      <td>-0.063781</td>\n",
              "    </tr>\n",
              "  </tbody>\n",
              "</table>\n",
              "</div>"
            ],
            "text/plain": [
              "   1970-01-01 00:00:00.020210507  ...  1970-01-06 00:00:00.020210507\n",
              "A                       0.582069  ...                      -0.807876\n",
              "B                      -0.053045  ...                       0.042032\n",
              "C                       0.103758  ...                       0.062055\n",
              "D                      -0.404378  ...                      -0.063781\n",
              "\n",
              "[4 rows x 6 columns]"
            ]
          },
          "metadata": {
            "tags": []
          },
          "execution_count": 35
        }
      ]
    },
    {
      "cell_type": "code",
      "metadata": {
        "colab": {
          "base_uri": "https://localhost:8080/",
          "height": 235
        },
        "id": "KyH_Z2ASO3J7",
        "outputId": "55c2004e-5c51-40c5-c21d-05e235d1a99a"
      },
      "source": [
        "df.sort_index(axis=1,ascending=True)"
      ],
      "execution_count": 41,
      "outputs": [
        {
          "output_type": "execute_result",
          "data": {
            "text/html": [
              "<div>\n",
              "<style scoped>\n",
              "    .dataframe tbody tr th:only-of-type {\n",
              "        vertical-align: middle;\n",
              "    }\n",
              "\n",
              "    .dataframe tbody tr th {\n",
              "        vertical-align: top;\n",
              "    }\n",
              "\n",
              "    .dataframe thead th {\n",
              "        text-align: right;\n",
              "    }\n",
              "</style>\n",
              "<table border=\"1\" class=\"dataframe\">\n",
              "  <thead>\n",
              "    <tr style=\"text-align: right;\">\n",
              "      <th></th>\n",
              "      <th>A</th>\n",
              "      <th>B</th>\n",
              "      <th>C</th>\n",
              "      <th>D</th>\n",
              "    </tr>\n",
              "  </thead>\n",
              "  <tbody>\n",
              "    <tr>\n",
              "      <th>1970-01-01 00:00:00.020210507</th>\n",
              "      <td>0.582069</td>\n",
              "      <td>-0.053045</td>\n",
              "      <td>0.103758</td>\n",
              "      <td>-0.404378</td>\n",
              "    </tr>\n",
              "    <tr>\n",
              "      <th>1970-01-02 00:00:00.020210507</th>\n",
              "      <td>-1.871162</td>\n",
              "      <td>-0.916233</td>\n",
              "      <td>0.191765</td>\n",
              "      <td>-0.054143</td>\n",
              "    </tr>\n",
              "    <tr>\n",
              "      <th>1970-01-03 00:00:00.020210507</th>\n",
              "      <td>1.354301</td>\n",
              "      <td>-1.258379</td>\n",
              "      <td>1.061683</td>\n",
              "      <td>0.769704</td>\n",
              "    </tr>\n",
              "    <tr>\n",
              "      <th>1970-01-04 00:00:00.020210507</th>\n",
              "      <td>-0.979992</td>\n",
              "      <td>0.111152</td>\n",
              "      <td>-0.258456</td>\n",
              "      <td>-0.575665</td>\n",
              "    </tr>\n",
              "    <tr>\n",
              "      <th>1970-01-05 00:00:00.020210507</th>\n",
              "      <td>-0.466762</td>\n",
              "      <td>-0.011605</td>\n",
              "      <td>0.548530</td>\n",
              "      <td>-0.187398</td>\n",
              "    </tr>\n",
              "    <tr>\n",
              "      <th>1970-01-06 00:00:00.020210507</th>\n",
              "      <td>-0.807876</td>\n",
              "      <td>0.042032</td>\n",
              "      <td>0.062055</td>\n",
              "      <td>-0.063781</td>\n",
              "    </tr>\n",
              "  </tbody>\n",
              "</table>\n",
              "</div>"
            ],
            "text/plain": [
              "                                      A         B         C         D\n",
              "1970-01-01 00:00:00.020210507  0.582069 -0.053045  0.103758 -0.404378\n",
              "1970-01-02 00:00:00.020210507 -1.871162 -0.916233  0.191765 -0.054143\n",
              "1970-01-03 00:00:00.020210507  1.354301 -1.258379  1.061683  0.769704\n",
              "1970-01-04 00:00:00.020210507 -0.979992  0.111152 -0.258456 -0.575665\n",
              "1970-01-05 00:00:00.020210507 -0.466762 -0.011605  0.548530 -0.187398\n",
              "1970-01-06 00:00:00.020210507 -0.807876  0.042032  0.062055 -0.063781"
            ]
          },
          "metadata": {
            "tags": []
          },
          "execution_count": 41
        }
      ]
    },
    {
      "cell_type": "code",
      "metadata": {
        "colab": {
          "base_uri": "https://localhost:8080/",
          "height": 235
        },
        "id": "2qmsDoi5R7kF",
        "outputId": "4ef24016-6849-4e40-d19a-8759912c5a7f"
      },
      "source": [
        "df.sort_index(axis=1,ascending=False)"
      ],
      "execution_count": 42,
      "outputs": [
        {
          "output_type": "execute_result",
          "data": {
            "text/html": [
              "<div>\n",
              "<style scoped>\n",
              "    .dataframe tbody tr th:only-of-type {\n",
              "        vertical-align: middle;\n",
              "    }\n",
              "\n",
              "    .dataframe tbody tr th {\n",
              "        vertical-align: top;\n",
              "    }\n",
              "\n",
              "    .dataframe thead th {\n",
              "        text-align: right;\n",
              "    }\n",
              "</style>\n",
              "<table border=\"1\" class=\"dataframe\">\n",
              "  <thead>\n",
              "    <tr style=\"text-align: right;\">\n",
              "      <th></th>\n",
              "      <th>D</th>\n",
              "      <th>C</th>\n",
              "      <th>B</th>\n",
              "      <th>A</th>\n",
              "    </tr>\n",
              "  </thead>\n",
              "  <tbody>\n",
              "    <tr>\n",
              "      <th>1970-01-01 00:00:00.020210507</th>\n",
              "      <td>-0.404378</td>\n",
              "      <td>0.103758</td>\n",
              "      <td>-0.053045</td>\n",
              "      <td>0.582069</td>\n",
              "    </tr>\n",
              "    <tr>\n",
              "      <th>1970-01-02 00:00:00.020210507</th>\n",
              "      <td>-0.054143</td>\n",
              "      <td>0.191765</td>\n",
              "      <td>-0.916233</td>\n",
              "      <td>-1.871162</td>\n",
              "    </tr>\n",
              "    <tr>\n",
              "      <th>1970-01-03 00:00:00.020210507</th>\n",
              "      <td>0.769704</td>\n",
              "      <td>1.061683</td>\n",
              "      <td>-1.258379</td>\n",
              "      <td>1.354301</td>\n",
              "    </tr>\n",
              "    <tr>\n",
              "      <th>1970-01-04 00:00:00.020210507</th>\n",
              "      <td>-0.575665</td>\n",
              "      <td>-0.258456</td>\n",
              "      <td>0.111152</td>\n",
              "      <td>-0.979992</td>\n",
              "    </tr>\n",
              "    <tr>\n",
              "      <th>1970-01-05 00:00:00.020210507</th>\n",
              "      <td>-0.187398</td>\n",
              "      <td>0.548530</td>\n",
              "      <td>-0.011605</td>\n",
              "      <td>-0.466762</td>\n",
              "    </tr>\n",
              "    <tr>\n",
              "      <th>1970-01-06 00:00:00.020210507</th>\n",
              "      <td>-0.063781</td>\n",
              "      <td>0.062055</td>\n",
              "      <td>0.042032</td>\n",
              "      <td>-0.807876</td>\n",
              "    </tr>\n",
              "  </tbody>\n",
              "</table>\n",
              "</div>"
            ],
            "text/plain": [
              "                                      D         C         B         A\n",
              "1970-01-01 00:00:00.020210507 -0.404378  0.103758 -0.053045  0.582069\n",
              "1970-01-02 00:00:00.020210507 -0.054143  0.191765 -0.916233 -1.871162\n",
              "1970-01-03 00:00:00.020210507  0.769704  1.061683 -1.258379  1.354301\n",
              "1970-01-04 00:00:00.020210507 -0.575665 -0.258456  0.111152 -0.979992\n",
              "1970-01-05 00:00:00.020210507 -0.187398  0.548530 -0.011605 -0.466762\n",
              "1970-01-06 00:00:00.020210507 -0.063781  0.062055  0.042032 -0.807876"
            ]
          },
          "metadata": {
            "tags": []
          },
          "execution_count": 42
        }
      ]
    },
    {
      "cell_type": "code",
      "metadata": {
        "colab": {
          "base_uri": "https://localhost:8080/",
          "height": 235
        },
        "id": "467QLTqBSKMp",
        "outputId": "3aa18793-384e-4fbe-8fb9-ec240532034f"
      },
      "source": [
        "df.sort_index(axis=0,ascending=True)"
      ],
      "execution_count": 44,
      "outputs": [
        {
          "output_type": "execute_result",
          "data": {
            "text/html": [
              "<div>\n",
              "<style scoped>\n",
              "    .dataframe tbody tr th:only-of-type {\n",
              "        vertical-align: middle;\n",
              "    }\n",
              "\n",
              "    .dataframe tbody tr th {\n",
              "        vertical-align: top;\n",
              "    }\n",
              "\n",
              "    .dataframe thead th {\n",
              "        text-align: right;\n",
              "    }\n",
              "</style>\n",
              "<table border=\"1\" class=\"dataframe\">\n",
              "  <thead>\n",
              "    <tr style=\"text-align: right;\">\n",
              "      <th></th>\n",
              "      <th>A</th>\n",
              "      <th>B</th>\n",
              "      <th>C</th>\n",
              "      <th>D</th>\n",
              "    </tr>\n",
              "  </thead>\n",
              "  <tbody>\n",
              "    <tr>\n",
              "      <th>1970-01-01 00:00:00.020210507</th>\n",
              "      <td>0.582069</td>\n",
              "      <td>-0.053045</td>\n",
              "      <td>0.103758</td>\n",
              "      <td>-0.404378</td>\n",
              "    </tr>\n",
              "    <tr>\n",
              "      <th>1970-01-02 00:00:00.020210507</th>\n",
              "      <td>-1.871162</td>\n",
              "      <td>-0.916233</td>\n",
              "      <td>0.191765</td>\n",
              "      <td>-0.054143</td>\n",
              "    </tr>\n",
              "    <tr>\n",
              "      <th>1970-01-03 00:00:00.020210507</th>\n",
              "      <td>1.354301</td>\n",
              "      <td>-1.258379</td>\n",
              "      <td>1.061683</td>\n",
              "      <td>0.769704</td>\n",
              "    </tr>\n",
              "    <tr>\n",
              "      <th>1970-01-04 00:00:00.020210507</th>\n",
              "      <td>-0.979992</td>\n",
              "      <td>0.111152</td>\n",
              "      <td>-0.258456</td>\n",
              "      <td>-0.575665</td>\n",
              "    </tr>\n",
              "    <tr>\n",
              "      <th>1970-01-05 00:00:00.020210507</th>\n",
              "      <td>-0.466762</td>\n",
              "      <td>-0.011605</td>\n",
              "      <td>0.548530</td>\n",
              "      <td>-0.187398</td>\n",
              "    </tr>\n",
              "    <tr>\n",
              "      <th>1970-01-06 00:00:00.020210507</th>\n",
              "      <td>-0.807876</td>\n",
              "      <td>0.042032</td>\n",
              "      <td>0.062055</td>\n",
              "      <td>-0.063781</td>\n",
              "    </tr>\n",
              "  </tbody>\n",
              "</table>\n",
              "</div>"
            ],
            "text/plain": [
              "                                      A         B         C         D\n",
              "1970-01-01 00:00:00.020210507  0.582069 -0.053045  0.103758 -0.404378\n",
              "1970-01-02 00:00:00.020210507 -1.871162 -0.916233  0.191765 -0.054143\n",
              "1970-01-03 00:00:00.020210507  1.354301 -1.258379  1.061683  0.769704\n",
              "1970-01-04 00:00:00.020210507 -0.979992  0.111152 -0.258456 -0.575665\n",
              "1970-01-05 00:00:00.020210507 -0.466762 -0.011605  0.548530 -0.187398\n",
              "1970-01-06 00:00:00.020210507 -0.807876  0.042032  0.062055 -0.063781"
            ]
          },
          "metadata": {
            "tags": []
          },
          "execution_count": 44
        }
      ]
    },
    {
      "cell_type": "code",
      "metadata": {
        "colab": {
          "base_uri": "https://localhost:8080/",
          "height": 235
        },
        "id": "OTPNfnpKSS0Z",
        "outputId": "3d665464-2fba-41a4-e1bc-e357e160d0e6"
      },
      "source": [
        "df.sort_index(axis=0,ascending=False)"
      ],
      "execution_count": 45,
      "outputs": [
        {
          "output_type": "execute_result",
          "data": {
            "text/html": [
              "<div>\n",
              "<style scoped>\n",
              "    .dataframe tbody tr th:only-of-type {\n",
              "        vertical-align: middle;\n",
              "    }\n",
              "\n",
              "    .dataframe tbody tr th {\n",
              "        vertical-align: top;\n",
              "    }\n",
              "\n",
              "    .dataframe thead th {\n",
              "        text-align: right;\n",
              "    }\n",
              "</style>\n",
              "<table border=\"1\" class=\"dataframe\">\n",
              "  <thead>\n",
              "    <tr style=\"text-align: right;\">\n",
              "      <th></th>\n",
              "      <th>A</th>\n",
              "      <th>B</th>\n",
              "      <th>C</th>\n",
              "      <th>D</th>\n",
              "    </tr>\n",
              "  </thead>\n",
              "  <tbody>\n",
              "    <tr>\n",
              "      <th>1970-01-06 00:00:00.020210507</th>\n",
              "      <td>-0.807876</td>\n",
              "      <td>0.042032</td>\n",
              "      <td>0.062055</td>\n",
              "      <td>-0.063781</td>\n",
              "    </tr>\n",
              "    <tr>\n",
              "      <th>1970-01-05 00:00:00.020210507</th>\n",
              "      <td>-0.466762</td>\n",
              "      <td>-0.011605</td>\n",
              "      <td>0.548530</td>\n",
              "      <td>-0.187398</td>\n",
              "    </tr>\n",
              "    <tr>\n",
              "      <th>1970-01-04 00:00:00.020210507</th>\n",
              "      <td>-0.979992</td>\n",
              "      <td>0.111152</td>\n",
              "      <td>-0.258456</td>\n",
              "      <td>-0.575665</td>\n",
              "    </tr>\n",
              "    <tr>\n",
              "      <th>1970-01-03 00:00:00.020210507</th>\n",
              "      <td>1.354301</td>\n",
              "      <td>-1.258379</td>\n",
              "      <td>1.061683</td>\n",
              "      <td>0.769704</td>\n",
              "    </tr>\n",
              "    <tr>\n",
              "      <th>1970-01-02 00:00:00.020210507</th>\n",
              "      <td>-1.871162</td>\n",
              "      <td>-0.916233</td>\n",
              "      <td>0.191765</td>\n",
              "      <td>-0.054143</td>\n",
              "    </tr>\n",
              "    <tr>\n",
              "      <th>1970-01-01 00:00:00.020210507</th>\n",
              "      <td>0.582069</td>\n",
              "      <td>-0.053045</td>\n",
              "      <td>0.103758</td>\n",
              "      <td>-0.404378</td>\n",
              "    </tr>\n",
              "  </tbody>\n",
              "</table>\n",
              "</div>"
            ],
            "text/plain": [
              "                                      A         B         C         D\n",
              "1970-01-06 00:00:00.020210507 -0.807876  0.042032  0.062055 -0.063781\n",
              "1970-01-05 00:00:00.020210507 -0.466762 -0.011605  0.548530 -0.187398\n",
              "1970-01-04 00:00:00.020210507 -0.979992  0.111152 -0.258456 -0.575665\n",
              "1970-01-03 00:00:00.020210507  1.354301 -1.258379  1.061683  0.769704\n",
              "1970-01-02 00:00:00.020210507 -1.871162 -0.916233  0.191765 -0.054143\n",
              "1970-01-01 00:00:00.020210507  0.582069 -0.053045  0.103758 -0.404378"
            ]
          },
          "metadata": {
            "tags": []
          },
          "execution_count": 45
        }
      ]
    },
    {
      "cell_type": "code",
      "metadata": {
        "colab": {
          "base_uri": "https://localhost:8080/",
          "height": 235
        },
        "id": "5xiUi551SXpY",
        "outputId": "250fafa1-2614-4907-da60-9e8225616acc"
      },
      "source": [
        "df.sort_values(by='B')"
      ],
      "execution_count": 48,
      "outputs": [
        {
          "output_type": "execute_result",
          "data": {
            "text/html": [
              "<div>\n",
              "<style scoped>\n",
              "    .dataframe tbody tr th:only-of-type {\n",
              "        vertical-align: middle;\n",
              "    }\n",
              "\n",
              "    .dataframe tbody tr th {\n",
              "        vertical-align: top;\n",
              "    }\n",
              "\n",
              "    .dataframe thead th {\n",
              "        text-align: right;\n",
              "    }\n",
              "</style>\n",
              "<table border=\"1\" class=\"dataframe\">\n",
              "  <thead>\n",
              "    <tr style=\"text-align: right;\">\n",
              "      <th></th>\n",
              "      <th>A</th>\n",
              "      <th>B</th>\n",
              "      <th>C</th>\n",
              "      <th>D</th>\n",
              "    </tr>\n",
              "  </thead>\n",
              "  <tbody>\n",
              "    <tr>\n",
              "      <th>1970-01-03 00:00:00.020210507</th>\n",
              "      <td>1.354301</td>\n",
              "      <td>-1.258379</td>\n",
              "      <td>1.061683</td>\n",
              "      <td>0.769704</td>\n",
              "    </tr>\n",
              "    <tr>\n",
              "      <th>1970-01-02 00:00:00.020210507</th>\n",
              "      <td>-1.871162</td>\n",
              "      <td>-0.916233</td>\n",
              "      <td>0.191765</td>\n",
              "      <td>-0.054143</td>\n",
              "    </tr>\n",
              "    <tr>\n",
              "      <th>1970-01-01 00:00:00.020210507</th>\n",
              "      <td>0.582069</td>\n",
              "      <td>-0.053045</td>\n",
              "      <td>0.103758</td>\n",
              "      <td>-0.404378</td>\n",
              "    </tr>\n",
              "    <tr>\n",
              "      <th>1970-01-05 00:00:00.020210507</th>\n",
              "      <td>-0.466762</td>\n",
              "      <td>-0.011605</td>\n",
              "      <td>0.548530</td>\n",
              "      <td>-0.187398</td>\n",
              "    </tr>\n",
              "    <tr>\n",
              "      <th>1970-01-06 00:00:00.020210507</th>\n",
              "      <td>-0.807876</td>\n",
              "      <td>0.042032</td>\n",
              "      <td>0.062055</td>\n",
              "      <td>-0.063781</td>\n",
              "    </tr>\n",
              "    <tr>\n",
              "      <th>1970-01-04 00:00:00.020210507</th>\n",
              "      <td>-0.979992</td>\n",
              "      <td>0.111152</td>\n",
              "      <td>-0.258456</td>\n",
              "      <td>-0.575665</td>\n",
              "    </tr>\n",
              "  </tbody>\n",
              "</table>\n",
              "</div>"
            ],
            "text/plain": [
              "                                      A         B         C         D\n",
              "1970-01-03 00:00:00.020210507  1.354301 -1.258379  1.061683  0.769704\n",
              "1970-01-02 00:00:00.020210507 -1.871162 -0.916233  0.191765 -0.054143\n",
              "1970-01-01 00:00:00.020210507  0.582069 -0.053045  0.103758 -0.404378\n",
              "1970-01-05 00:00:00.020210507 -0.466762 -0.011605  0.548530 -0.187398\n",
              "1970-01-06 00:00:00.020210507 -0.807876  0.042032  0.062055 -0.063781\n",
              "1970-01-04 00:00:00.020210507 -0.979992  0.111152 -0.258456 -0.575665"
            ]
          },
          "metadata": {
            "tags": []
          },
          "execution_count": 48
        }
      ]
    },
    {
      "cell_type": "code",
      "metadata": {
        "colab": {
          "base_uri": "https://localhost:8080/"
        },
        "id": "ScefxvRsSydP",
        "outputId": "b1a90277-ccfa-40fd-9346-db3d25c7fedf"
      },
      "source": [
        "df[ 'A' ]"
      ],
      "execution_count": 49,
      "outputs": [
        {
          "output_type": "execute_result",
          "data": {
            "text/plain": [
              "1970-01-01 00:00:00.020210507    0.582069\n",
              "1970-01-02 00:00:00.020210507   -1.871162\n",
              "1970-01-03 00:00:00.020210507    1.354301\n",
              "1970-01-04 00:00:00.020210507   -0.979992\n",
              "1970-01-05 00:00:00.020210507   -0.466762\n",
              "1970-01-06 00:00:00.020210507   -0.807876\n",
              "Freq: D, Name: A, dtype: float64"
            ]
          },
          "metadata": {
            "tags": []
          },
          "execution_count": 49
        }
      ]
    },
    {
      "cell_type": "code",
      "metadata": {
        "colab": {
          "base_uri": "https://localhost:8080/"
        },
        "id": "L8cr4slnTNCp",
        "outputId": "03bb3b08-9459-4755-cee1-fb530ac93372"
      },
      "source": [
        "df[ 'B' ]"
      ],
      "execution_count": 50,
      "outputs": [
        {
          "output_type": "execute_result",
          "data": {
            "text/plain": [
              "1970-01-01 00:00:00.020210507   -0.053045\n",
              "1970-01-02 00:00:00.020210507   -0.916233\n",
              "1970-01-03 00:00:00.020210507   -1.258379\n",
              "1970-01-04 00:00:00.020210507    0.111152\n",
              "1970-01-05 00:00:00.020210507   -0.011605\n",
              "1970-01-06 00:00:00.020210507    0.042032\n",
              "Freq: D, Name: B, dtype: float64"
            ]
          },
          "metadata": {
            "tags": []
          },
          "execution_count": 50
        }
      ]
    },
    {
      "cell_type": "code",
      "metadata": {
        "colab": {
          "base_uri": "https://localhost:8080/",
          "height": 235
        },
        "id": "vqACpjR9TQUJ",
        "outputId": "725a1b1e-5a29-451b-b5e7-13263f97e09d"
      },
      "source": [
        "df[ ['A','D'] ]"
      ],
      "execution_count": 52,
      "outputs": [
        {
          "output_type": "execute_result",
          "data": {
            "text/html": [
              "<div>\n",
              "<style scoped>\n",
              "    .dataframe tbody tr th:only-of-type {\n",
              "        vertical-align: middle;\n",
              "    }\n",
              "\n",
              "    .dataframe tbody tr th {\n",
              "        vertical-align: top;\n",
              "    }\n",
              "\n",
              "    .dataframe thead th {\n",
              "        text-align: right;\n",
              "    }\n",
              "</style>\n",
              "<table border=\"1\" class=\"dataframe\">\n",
              "  <thead>\n",
              "    <tr style=\"text-align: right;\">\n",
              "      <th></th>\n",
              "      <th>A</th>\n",
              "      <th>D</th>\n",
              "    </tr>\n",
              "  </thead>\n",
              "  <tbody>\n",
              "    <tr>\n",
              "      <th>1970-01-01 00:00:00.020210507</th>\n",
              "      <td>0.582069</td>\n",
              "      <td>-0.404378</td>\n",
              "    </tr>\n",
              "    <tr>\n",
              "      <th>1970-01-02 00:00:00.020210507</th>\n",
              "      <td>-1.871162</td>\n",
              "      <td>-0.054143</td>\n",
              "    </tr>\n",
              "    <tr>\n",
              "      <th>1970-01-03 00:00:00.020210507</th>\n",
              "      <td>1.354301</td>\n",
              "      <td>0.769704</td>\n",
              "    </tr>\n",
              "    <tr>\n",
              "      <th>1970-01-04 00:00:00.020210507</th>\n",
              "      <td>-0.979992</td>\n",
              "      <td>-0.575665</td>\n",
              "    </tr>\n",
              "    <tr>\n",
              "      <th>1970-01-05 00:00:00.020210507</th>\n",
              "      <td>-0.466762</td>\n",
              "      <td>-0.187398</td>\n",
              "    </tr>\n",
              "    <tr>\n",
              "      <th>1970-01-06 00:00:00.020210507</th>\n",
              "      <td>-0.807876</td>\n",
              "      <td>-0.063781</td>\n",
              "    </tr>\n",
              "  </tbody>\n",
              "</table>\n",
              "</div>"
            ],
            "text/plain": [
              "                                      A         D\n",
              "1970-01-01 00:00:00.020210507  0.582069 -0.404378\n",
              "1970-01-02 00:00:00.020210507 -1.871162 -0.054143\n",
              "1970-01-03 00:00:00.020210507  1.354301  0.769704\n",
              "1970-01-04 00:00:00.020210507 -0.979992 -0.575665\n",
              "1970-01-05 00:00:00.020210507 -0.466762 -0.187398\n",
              "1970-01-06 00:00:00.020210507 -0.807876 -0.063781"
            ]
          },
          "metadata": {
            "tags": []
          },
          "execution_count": 52
        }
      ]
    },
    {
      "cell_type": "code",
      "metadata": {
        "colab": {
          "base_uri": "https://localhost:8080/",
          "height": 235
        },
        "id": "WpPQ80q_UHaa",
        "outputId": "b7eee2c9-2558-4ad3-b73b-a4d6c48f3275"
      },
      "source": [
        "df.loc[:,['A']]"
      ],
      "execution_count": 55,
      "outputs": [
        {
          "output_type": "execute_result",
          "data": {
            "text/html": [
              "<div>\n",
              "<style scoped>\n",
              "    .dataframe tbody tr th:only-of-type {\n",
              "        vertical-align: middle;\n",
              "    }\n",
              "\n",
              "    .dataframe tbody tr th {\n",
              "        vertical-align: top;\n",
              "    }\n",
              "\n",
              "    .dataframe thead th {\n",
              "        text-align: right;\n",
              "    }\n",
              "</style>\n",
              "<table border=\"1\" class=\"dataframe\">\n",
              "  <thead>\n",
              "    <tr style=\"text-align: right;\">\n",
              "      <th></th>\n",
              "      <th>A</th>\n",
              "    </tr>\n",
              "  </thead>\n",
              "  <tbody>\n",
              "    <tr>\n",
              "      <th>1970-01-01 00:00:00.020210507</th>\n",
              "      <td>0.582069</td>\n",
              "    </tr>\n",
              "    <tr>\n",
              "      <th>1970-01-02 00:00:00.020210507</th>\n",
              "      <td>-1.871162</td>\n",
              "    </tr>\n",
              "    <tr>\n",
              "      <th>1970-01-03 00:00:00.020210507</th>\n",
              "      <td>1.354301</td>\n",
              "    </tr>\n",
              "    <tr>\n",
              "      <th>1970-01-04 00:00:00.020210507</th>\n",
              "      <td>-0.979992</td>\n",
              "    </tr>\n",
              "    <tr>\n",
              "      <th>1970-01-05 00:00:00.020210507</th>\n",
              "      <td>-0.466762</td>\n",
              "    </tr>\n",
              "    <tr>\n",
              "      <th>1970-01-06 00:00:00.020210507</th>\n",
              "      <td>-0.807876</td>\n",
              "    </tr>\n",
              "  </tbody>\n",
              "</table>\n",
              "</div>"
            ],
            "text/plain": [
              "                                      A\n",
              "1970-01-01 00:00:00.020210507  0.582069\n",
              "1970-01-02 00:00:00.020210507 -1.871162\n",
              "1970-01-03 00:00:00.020210507  1.354301\n",
              "1970-01-04 00:00:00.020210507 -0.979992\n",
              "1970-01-05 00:00:00.020210507 -0.466762\n",
              "1970-01-06 00:00:00.020210507 -0.807876"
            ]
          },
          "metadata": {
            "tags": []
          },
          "execution_count": 55
        }
      ]
    },
    {
      "cell_type": "code",
      "metadata": {
        "colab": {
          "base_uri": "https://localhost:8080/",
          "height": 111
        },
        "id": "eWAFbY1dVBVH",
        "outputId": "594fcc8a-13dd-4910-9fa1-da34d314a49e"
      },
      "source": [
        "df.iloc[[1,3],[0,3]]"
      ],
      "execution_count": 57,
      "outputs": [
        {
          "output_type": "execute_result",
          "data": {
            "text/html": [
              "<div>\n",
              "<style scoped>\n",
              "    .dataframe tbody tr th:only-of-type {\n",
              "        vertical-align: middle;\n",
              "    }\n",
              "\n",
              "    .dataframe tbody tr th {\n",
              "        vertical-align: top;\n",
              "    }\n",
              "\n",
              "    .dataframe thead th {\n",
              "        text-align: right;\n",
              "    }\n",
              "</style>\n",
              "<table border=\"1\" class=\"dataframe\">\n",
              "  <thead>\n",
              "    <tr style=\"text-align: right;\">\n",
              "      <th></th>\n",
              "      <th>A</th>\n",
              "      <th>D</th>\n",
              "    </tr>\n",
              "  </thead>\n",
              "  <tbody>\n",
              "    <tr>\n",
              "      <th>1970-01-02 00:00:00.020210507</th>\n",
              "      <td>-1.871162</td>\n",
              "      <td>-0.054143</td>\n",
              "    </tr>\n",
              "    <tr>\n",
              "      <th>1970-01-04 00:00:00.020210507</th>\n",
              "      <td>-0.979992</td>\n",
              "      <td>-0.575665</td>\n",
              "    </tr>\n",
              "  </tbody>\n",
              "</table>\n",
              "</div>"
            ],
            "text/plain": [
              "                                      A         D\n",
              "1970-01-02 00:00:00.020210507 -1.871162 -0.054143\n",
              "1970-01-04 00:00:00.020210507 -0.979992 -0.575665"
            ]
          },
          "metadata": {
            "tags": []
          },
          "execution_count": 57
        }
      ]
    },
    {
      "cell_type": "code",
      "metadata": {
        "colab": {
          "base_uri": "https://localhost:8080/"
        },
        "id": "6pnY6buFW4yF",
        "outputId": "4dbb965d-c3ba-4507-9763-a44cf07a650c"
      },
      "source": [
        "df.iloc[0,0]"
      ],
      "execution_count": 59,
      "outputs": [
        {
          "output_type": "execute_result",
          "data": {
            "text/plain": [
              "0.5820686130476767"
            ]
          },
          "metadata": {
            "tags": []
          },
          "execution_count": 59
        }
      ]
    },
    {
      "cell_type": "code",
      "metadata": {
        "colab": {
          "base_uri": "https://localhost:8080/"
        },
        "id": "06kqRV4vXCtl",
        "outputId": "40fa2bb5-03de-4f7c-d3f7-a56b139a83f9"
      },
      "source": [
        "df.iloc[3,2]"
      ],
      "execution_count": 60,
      "outputs": [
        {
          "output_type": "execute_result",
          "data": {
            "text/plain": [
              "-0.25845648759553497"
            ]
          },
          "metadata": {
            "tags": []
          },
          "execution_count": 60
        }
      ]
    },
    {
      "cell_type": "code",
      "metadata": {
        "colab": {
          "base_uri": "https://localhost:8080/",
          "height": 111
        },
        "id": "FWgEYrebXGuG",
        "outputId": "bb99f1f0-d6b7-4a6a-f6f0-8375148acb62"
      },
      "source": [
        "df. iloc[[1,3],[1,3]]"
      ],
      "execution_count": 61,
      "outputs": [
        {
          "output_type": "execute_result",
          "data": {
            "text/html": [
              "<div>\n",
              "<style scoped>\n",
              "    .dataframe tbody tr th:only-of-type {\n",
              "        vertical-align: middle;\n",
              "    }\n",
              "\n",
              "    .dataframe tbody tr th {\n",
              "        vertical-align: top;\n",
              "    }\n",
              "\n",
              "    .dataframe thead th {\n",
              "        text-align: right;\n",
              "    }\n",
              "</style>\n",
              "<table border=\"1\" class=\"dataframe\">\n",
              "  <thead>\n",
              "    <tr style=\"text-align: right;\">\n",
              "      <th></th>\n",
              "      <th>B</th>\n",
              "      <th>D</th>\n",
              "    </tr>\n",
              "  </thead>\n",
              "  <tbody>\n",
              "    <tr>\n",
              "      <th>1970-01-02 00:00:00.020210507</th>\n",
              "      <td>-0.916233</td>\n",
              "      <td>-0.054143</td>\n",
              "    </tr>\n",
              "    <tr>\n",
              "      <th>1970-01-04 00:00:00.020210507</th>\n",
              "      <td>0.111152</td>\n",
              "      <td>-0.575665</td>\n",
              "    </tr>\n",
              "  </tbody>\n",
              "</table>\n",
              "</div>"
            ],
            "text/plain": [
              "                                      B         D\n",
              "1970-01-02 00:00:00.020210507 -0.916233 -0.054143\n",
              "1970-01-04 00:00:00.020210507  0.111152 -0.575665"
            ]
          },
          "metadata": {
            "tags": []
          },
          "execution_count": 61
        }
      ]
    },
    {
      "cell_type": "code",
      "metadata": {
        "colab": {
          "base_uri": "https://localhost:8080/",
          "height": 235
        },
        "id": "qpbFIpu1X7sl",
        "outputId": "06b0b47d-f9dd-4b8b-9f50-82237ee5079e"
      },
      "source": [
        "df"
      ],
      "execution_count": 62,
      "outputs": [
        {
          "output_type": "execute_result",
          "data": {
            "text/html": [
              "<div>\n",
              "<style scoped>\n",
              "    .dataframe tbody tr th:only-of-type {\n",
              "        vertical-align: middle;\n",
              "    }\n",
              "\n",
              "    .dataframe tbody tr th {\n",
              "        vertical-align: top;\n",
              "    }\n",
              "\n",
              "    .dataframe thead th {\n",
              "        text-align: right;\n",
              "    }\n",
              "</style>\n",
              "<table border=\"1\" class=\"dataframe\">\n",
              "  <thead>\n",
              "    <tr style=\"text-align: right;\">\n",
              "      <th></th>\n",
              "      <th>A</th>\n",
              "      <th>B</th>\n",
              "      <th>C</th>\n",
              "      <th>D</th>\n",
              "    </tr>\n",
              "  </thead>\n",
              "  <tbody>\n",
              "    <tr>\n",
              "      <th>1970-01-01 00:00:00.020210507</th>\n",
              "      <td>0.582069</td>\n",
              "      <td>-0.053045</td>\n",
              "      <td>0.103758</td>\n",
              "      <td>-0.404378</td>\n",
              "    </tr>\n",
              "    <tr>\n",
              "      <th>1970-01-02 00:00:00.020210507</th>\n",
              "      <td>-1.871162</td>\n",
              "      <td>-0.916233</td>\n",
              "      <td>0.191765</td>\n",
              "      <td>-0.054143</td>\n",
              "    </tr>\n",
              "    <tr>\n",
              "      <th>1970-01-03 00:00:00.020210507</th>\n",
              "      <td>1.354301</td>\n",
              "      <td>-1.258379</td>\n",
              "      <td>1.061683</td>\n",
              "      <td>0.769704</td>\n",
              "    </tr>\n",
              "    <tr>\n",
              "      <th>1970-01-04 00:00:00.020210507</th>\n",
              "      <td>-0.979992</td>\n",
              "      <td>0.111152</td>\n",
              "      <td>-0.258456</td>\n",
              "      <td>-0.575665</td>\n",
              "    </tr>\n",
              "    <tr>\n",
              "      <th>1970-01-05 00:00:00.020210507</th>\n",
              "      <td>-0.466762</td>\n",
              "      <td>-0.011605</td>\n",
              "      <td>0.548530</td>\n",
              "      <td>-0.187398</td>\n",
              "    </tr>\n",
              "    <tr>\n",
              "      <th>1970-01-06 00:00:00.020210507</th>\n",
              "      <td>-0.807876</td>\n",
              "      <td>0.042032</td>\n",
              "      <td>0.062055</td>\n",
              "      <td>-0.063781</td>\n",
              "    </tr>\n",
              "  </tbody>\n",
              "</table>\n",
              "</div>"
            ],
            "text/plain": [
              "                                      A         B         C         D\n",
              "1970-01-01 00:00:00.020210507  0.582069 -0.053045  0.103758 -0.404378\n",
              "1970-01-02 00:00:00.020210507 -1.871162 -0.916233  0.191765 -0.054143\n",
              "1970-01-03 00:00:00.020210507  1.354301 -1.258379  1.061683  0.769704\n",
              "1970-01-04 00:00:00.020210507 -0.979992  0.111152 -0.258456 -0.575665\n",
              "1970-01-05 00:00:00.020210507 -0.466762 -0.011605  0.548530 -0.187398\n",
              "1970-01-06 00:00:00.020210507 -0.807876  0.042032  0.062055 -0.063781"
            ]
          },
          "metadata": {
            "tags": []
          },
          "execution_count": 62
        }
      ]
    },
    {
      "cell_type": "code",
      "metadata": {
        "colab": {
          "base_uri": "https://localhost:8080/"
        },
        "id": "dySBHlc3YRzV",
        "outputId": "29099c9a-c482-44c2-c160-3df1eb3ad574"
      },
      "source": [
        "df.A"
      ],
      "execution_count": 63,
      "outputs": [
        {
          "output_type": "execute_result",
          "data": {
            "text/plain": [
              "1970-01-01 00:00:00.020210507    0.582069\n",
              "1970-01-02 00:00:00.020210507   -1.871162\n",
              "1970-01-03 00:00:00.020210507    1.354301\n",
              "1970-01-04 00:00:00.020210507   -0.979992\n",
              "1970-01-05 00:00:00.020210507   -0.466762\n",
              "1970-01-06 00:00:00.020210507   -0.807876\n",
              "Freq: D, Name: A, dtype: float64"
            ]
          },
          "metadata": {
            "tags": []
          },
          "execution_count": 63
        }
      ]
    },
    {
      "cell_type": "code",
      "metadata": {
        "colab": {
          "base_uri": "https://localhost:8080/"
        },
        "id": "43zMBaVGYXVl",
        "outputId": "59b7a621-78b8-4f34-c95e-02d3e59208d9"
      },
      "source": [
        "df.A > 0"
      ],
      "execution_count": 64,
      "outputs": [
        {
          "output_type": "execute_result",
          "data": {
            "text/plain": [
              "1970-01-01 00:00:00.020210507     True\n",
              "1970-01-02 00:00:00.020210507    False\n",
              "1970-01-03 00:00:00.020210507     True\n",
              "1970-01-04 00:00:00.020210507    False\n",
              "1970-01-05 00:00:00.020210507    False\n",
              "1970-01-06 00:00:00.020210507    False\n",
              "Freq: D, Name: A, dtype: bool"
            ]
          },
          "metadata": {
            "tags": []
          },
          "execution_count": 64
        }
      ]
    },
    {
      "cell_type": "code",
      "metadata": {
        "colab": {
          "base_uri": "https://localhost:8080/"
        },
        "id": "2hKApzK_Yb-l",
        "outputId": "940e9a58-2431-4f43-b550-b46f3efe4e3a"
      },
      "source": [
        "df.A > 0.5"
      ],
      "execution_count": 67,
      "outputs": [
        {
          "output_type": "execute_result",
          "data": {
            "text/plain": [
              "1970-01-01 00:00:00.020210507     True\n",
              "1970-01-02 00:00:00.020210507    False\n",
              "1970-01-03 00:00:00.020210507     True\n",
              "1970-01-04 00:00:00.020210507    False\n",
              "1970-01-05 00:00:00.020210507    False\n",
              "1970-01-06 00:00:00.020210507    False\n",
              "Freq: D, Name: A, dtype: bool"
            ]
          },
          "metadata": {
            "tags": []
          },
          "execution_count": 67
        }
      ]
    },
    {
      "cell_type": "code",
      "metadata": {
        "colab": {
          "base_uri": "https://localhost:8080/",
          "height": 235
        },
        "id": "WIaflt5dY0wE",
        "outputId": "9ee42218-155b-4381-92ba-2b0c5d569c40"
      },
      "source": [
        "df[df>0]"
      ],
      "execution_count": 68,
      "outputs": [
        {
          "output_type": "execute_result",
          "data": {
            "text/html": [
              "<div>\n",
              "<style scoped>\n",
              "    .dataframe tbody tr th:only-of-type {\n",
              "        vertical-align: middle;\n",
              "    }\n",
              "\n",
              "    .dataframe tbody tr th {\n",
              "        vertical-align: top;\n",
              "    }\n",
              "\n",
              "    .dataframe thead th {\n",
              "        text-align: right;\n",
              "    }\n",
              "</style>\n",
              "<table border=\"1\" class=\"dataframe\">\n",
              "  <thead>\n",
              "    <tr style=\"text-align: right;\">\n",
              "      <th></th>\n",
              "      <th>A</th>\n",
              "      <th>B</th>\n",
              "      <th>C</th>\n",
              "      <th>D</th>\n",
              "    </tr>\n",
              "  </thead>\n",
              "  <tbody>\n",
              "    <tr>\n",
              "      <th>1970-01-01 00:00:00.020210507</th>\n",
              "      <td>0.582069</td>\n",
              "      <td>NaN</td>\n",
              "      <td>0.103758</td>\n",
              "      <td>NaN</td>\n",
              "    </tr>\n",
              "    <tr>\n",
              "      <th>1970-01-02 00:00:00.020210507</th>\n",
              "      <td>NaN</td>\n",
              "      <td>NaN</td>\n",
              "      <td>0.191765</td>\n",
              "      <td>NaN</td>\n",
              "    </tr>\n",
              "    <tr>\n",
              "      <th>1970-01-03 00:00:00.020210507</th>\n",
              "      <td>1.354301</td>\n",
              "      <td>NaN</td>\n",
              "      <td>1.061683</td>\n",
              "      <td>0.769704</td>\n",
              "    </tr>\n",
              "    <tr>\n",
              "      <th>1970-01-04 00:00:00.020210507</th>\n",
              "      <td>NaN</td>\n",
              "      <td>0.111152</td>\n",
              "      <td>NaN</td>\n",
              "      <td>NaN</td>\n",
              "    </tr>\n",
              "    <tr>\n",
              "      <th>1970-01-05 00:00:00.020210507</th>\n",
              "      <td>NaN</td>\n",
              "      <td>NaN</td>\n",
              "      <td>0.548530</td>\n",
              "      <td>NaN</td>\n",
              "    </tr>\n",
              "    <tr>\n",
              "      <th>1970-01-06 00:00:00.020210507</th>\n",
              "      <td>NaN</td>\n",
              "      <td>0.042032</td>\n",
              "      <td>0.062055</td>\n",
              "      <td>NaN</td>\n",
              "    </tr>\n",
              "  </tbody>\n",
              "</table>\n",
              "</div>"
            ],
            "text/plain": [
              "                                      A         B         C         D\n",
              "1970-01-01 00:00:00.020210507  0.582069       NaN  0.103758       NaN\n",
              "1970-01-02 00:00:00.020210507       NaN       NaN  0.191765       NaN\n",
              "1970-01-03 00:00:00.020210507  1.354301       NaN  1.061683  0.769704\n",
              "1970-01-04 00:00:00.020210507       NaN  0.111152       NaN       NaN\n",
              "1970-01-05 00:00:00.020210507       NaN       NaN  0.548530       NaN\n",
              "1970-01-06 00:00:00.020210507       NaN  0.042032  0.062055       NaN"
            ]
          },
          "metadata": {
            "tags": []
          },
          "execution_count": 68
        }
      ]
    },
    {
      "cell_type": "code",
      "metadata": {
        "id": "ELxbiAcaZGtk"
      },
      "source": [
        "df2 = df.copy()"
      ],
      "execution_count": 84,
      "outputs": []
    },
    {
      "cell_type": "code",
      "metadata": {
        "id": "wc6WWtDyZPfU"
      },
      "source": [
        "df2 = df"
      ],
      "execution_count": 85,
      "outputs": []
    },
    {
      "cell_type": "code",
      "metadata": {
        "id": "jlbiaHGZZTFk"
      },
      "source": [
        "df['E']=[1,2,3,4,5,6]"
      ],
      "execution_count": 86,
      "outputs": []
    },
    {
      "cell_type": "code",
      "metadata": {
        "id": "WMsOuJHHZwHp"
      },
      "source": [
        ""
      ],
      "execution_count": null,
      "outputs": []
    }
  ]
}