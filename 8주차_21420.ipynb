{
  "nbformat": 4,
  "nbformat_minor": 0,
  "metadata": {
    "colab": {
      "name": "8주차 21420.ipynb",
      "provenance": [],
      "collapsed_sections": [],
      "mount_file_id": "1kS5nL044gTb2q7Mb61xSpw4QTasGBTq7",
      "authorship_tag": "ABX9TyP1R+3VeaSbHKQ085buxvOf",
      "include_colab_link": true
    },
    "kernelspec": {
      "name": "python3",
      "display_name": "Python 3"
    },
    "language_info": {
      "name": "python"
    }
  },
  "cells": [
    {
      "cell_type": "markdown",
      "metadata": {
        "id": "view-in-github",
        "colab_type": "text"
      },
      "source": [
        "<a href=\"https://colab.research.google.com/github/ghghkdxoodns/python/blob/main/8%EC%A3%BC%EC%B0%A8_21420.ipynb\" target=\"_parent\"><img src=\"https://colab.research.google.com/assets/colab-badge.svg\" alt=\"Open In Colab\"/></a>"
      ]
    },
    {
      "cell_type": "code",
      "metadata": {
        "id": "88VNc1vjY1i8"
      },
      "source": [
        "def cal(num1, num2, op):\n",
        "  ans = 0\n",
        "  \n",
        "  if op == '+': ans = num1 + num2\n",
        "  elif op == '-': ans = num1 - num2\n",
        "  elif op == 'x': ans = num1 * num2\n",
        "  elif op == '/': ans = num1 / num2\n",
        "\n",
        "  print(f'{num1}+{num2} = {ans}')\n",
        "  return ans"
      ],
      "execution_count": 11,
      "outputs": []
    },
    {
      "cell_type": "code",
      "metadata": {
        "colab": {
          "base_uri": "https://localhost:8080/"
        },
        "id": "ftG0CnsDcqMe",
        "outputId": "36ff1805-e811-4517-fcca-8c62213d99e8"
      },
      "source": [
        "a = cal(1,2,'+')"
      ],
      "execution_count": 12,
      "outputs": [
        {
          "output_type": "stream",
          "text": [
            "1+2 = 3\n"
          ],
          "name": "stdout"
        }
      ]
    },
    {
      "cell_type": "code",
      "metadata": {
        "colab": {
          "base_uri": "https://localhost:8080/"
        },
        "id": "JPCh0FhXdLu4",
        "outputId": "c152a142-206c-405f-8abb-5e5e8cd79e46"
      },
      "source": [
        "a\n"
      ],
      "execution_count": 13,
      "outputs": [
        {
          "output_type": "execute_result",
          "data": {
            "text/plain": [
              "3"
            ]
          },
          "metadata": {
            "tags": []
          },
          "execution_count": 13
        }
      ]
    },
    {
      "cell_type": "code",
      "metadata": {
        "colab": {
          "base_uri": "https://localhost:8080/"
        },
        "id": "UiYgWqb5ePfs",
        "outputId": "af624533-5760-4f53-d143-e977920baded"
      },
      "source": [
        "width = int(input('가로입력 : '))\n",
        "heigt = int(input('세로입력 : '))\n",
        "\n",
        "area = width * heigt \n",
        "\n",
        "if width == heigt:\n",
        "  print(f'정사각형 넓이 :{area} ')\n",
        "else:  \n",
        "   print(f'직사각형 넓이 :{area} ')"
      ],
      "execution_count": 21,
      "outputs": [
        {
          "output_type": "stream",
          "text": [
            "가로입력 : 6\n",
            "세로입력 : 9\n",
            "직사각형 넓이 :54 \n"
          ],
          "name": "stdout"
        }
      ]
    },
    {
      "cell_type": "code",
      "metadata": {
        "id": "rMO-YiHzfD14"
      },
      "source": [
        "path = '/content/drive/My Drive/RULuvme/'\n",
        "\n",
        "f = open(path+'test.txt','w')\n",
        "\n",
        "f.write('난 조폐공사 갈꺼다')\n",
        "\n",
        "f.close()"
      ],
      "execution_count": 20,
      "outputs": []
    },
    {
      "cell_type": "code",
      "metadata": {
        "colab": {
          "base_uri": "https://localhost:8080/",
          "height": 35
        },
        "id": "EVrzVD_hjDJm",
        "outputId": "be21b7f2-4555-4f99-f0ff-8847bddb7e3b"
      },
      "source": [
        "f = open('다짐.txt', 'r')\n",
        "data = f.readline()\n",
        "f.close()\n",
        "data"
      ],
      "execution_count": 19,
      "outputs": [
        {
          "output_type": "execute_result",
          "data": {
            "application/vnd.google.colaboratory.intrinsic+json": {
              "type": "string"
            },
            "text/plain": [
              "'전기과 21420 최석원 \\n'"
            ]
          },
          "metadata": {
            "tags": []
          },
          "execution_count": 19
        }
      ]
    },
    {
      "cell_type": "code",
      "metadata": {
        "colab": {
          "base_uri": "https://localhost:8080/"
        },
        "id": "u3rJlGP-kkZ0",
        "outputId": "4577f4ab-da72-4c1c-80ad-c898db5fcda6"
      },
      "source": [
        "fp = open('지역평균기온.txt', 'r')\n",
        "\n",
        "data = fp.readlines()\n",
        "\n",
        "\n",
        "fp.close()\n",
        "\n",
        "print(data)\n",
        "data"
      ],
      "execution_count": 22,
      "outputs": [
        {
          "output_type": "stream",
          "text": [
            "['서울,20\\n', '부산,26\\n', '대구,24\\n', '인천,24\\n', '광주,25\\n', '대전,22\\n', '울산,26\\n', '세종,23\\n', '경기,24\\n', '강원,23\\n', '충북,26\\n', '충남,22\\n', '전북,24\\n', '전남,23\\n', '경북,28\\n', '경남,29\\n', '제주,26']\n"
          ],
          "name": "stdout"
        },
        {
          "output_type": "execute_result",
          "data": {
            "text/plain": [
              "['서울,20\\n',\n",
              " '부산,26\\n',\n",
              " '대구,24\\n',\n",
              " '인천,24\\n',\n",
              " '광주,25\\n',\n",
              " '대전,22\\n',\n",
              " '울산,26\\n',\n",
              " '세종,23\\n',\n",
              " '경기,24\\n',\n",
              " '강원,23\\n',\n",
              " '충북,26\\n',\n",
              " '충남,22\\n',\n",
              " '전북,24\\n',\n",
              " '전남,23\\n',\n",
              " '경북,28\\n',\n",
              " '경남,29\\n',\n",
              " '제주,26']"
            ]
          },
          "metadata": {
            "tags": []
          },
          "execution_count": 22
        }
      ]
    },
    {
      "cell_type": "code",
      "metadata": {
        "id": "qNCtttQ_ngVk"
      },
      "source": [
        "fp = open('지역평균기온.txt', 'r')\n",
        "data = fp.readlines()\n",
        "fp.close()\n",
        "\n",
        "dt = {}\n",
        "\n",
        "\n",
        "for line in data:\n",
        "  line = line. replace('\\n', '')\n",
        "  items = line.split(',')\n",
        "  dt[items[0]]=items[1]"
      ],
      "execution_count": 18,
      "outputs": []
    },
    {
      "cell_type": "code",
      "metadata": {
        "colab": {
          "base_uri": "https://localhost:8080/"
        },
        "id": "Q3Y9adCDopvn",
        "outputId": "aad91661-6d93-4fa9-df7d-a4f506520f7a"
      },
      "source": [
        "dt"
      ],
      "execution_count": 16,
      "outputs": [
        {
          "output_type": "execute_result",
          "data": {
            "text/plain": [
              "{'강원': '23',\n",
              " '경기': '24',\n",
              " '경남': '29',\n",
              " '경북': '28',\n",
              " '광주': '25',\n",
              " '대구': '24',\n",
              " '대전': '22',\n",
              " '부산': '26',\n",
              " '서울': '20',\n",
              " '세종': '23',\n",
              " '울산': '26',\n",
              " '인천': '24',\n",
              " '전남': '23',\n",
              " '전북': '24',\n",
              " '제주': '26',\n",
              " '충남': '22',\n",
              " '충북': '26'}"
            ]
          },
          "metadata": {
            "tags": []
          },
          "execution_count": 16
        }
      ]
    },
    {
      "cell_type": "code",
      "metadata": {
        "colab": {
          "base_uri": "https://localhost:8080/"
        },
        "id": "zk3_lDV3orQm",
        "outputId": "b252561c-1a40-4e76-86c6-31d51156b953"
      },
      "source": [
        "!sudo apt-get install -y fonts-nanum\n",
        "!sudo fc-cache -fv\n",
        "!rm ~/.cache/matplotlib -rf"
      ],
      "execution_count": 17,
      "outputs": [
        {
          "output_type": "stream",
          "text": [
            "Reading package lists... Done\n",
            "Building dependency tree       \n",
            "Reading state information... Done\n",
            "fonts-nanum is already the newest version (20170925-1).\n",
            "The following package was automatically installed and is no longer required:\n",
            "  libnvidia-common-460\n",
            "Use 'sudo apt autoremove' to remove it.\n",
            "0 upgraded, 0 newly installed, 0 to remove and 34 not upgraded.\n",
            "/usr/share/fonts: caching, new cache contents: 0 fonts, 1 dirs\n",
            "/usr/share/fonts/truetype: caching, new cache contents: 0 fonts, 3 dirs\n",
            "/usr/share/fonts/truetype/humor-sans: caching, new cache contents: 1 fonts, 0 dirs\n",
            "/usr/share/fonts/truetype/liberation: caching, new cache contents: 16 fonts, 0 dirs\n",
            "/usr/share/fonts/truetype/nanum: caching, new cache contents: 10 fonts, 0 dirs\n",
            "/usr/local/share/fonts: caching, new cache contents: 0 fonts, 0 dirs\n",
            "/root/.local/share/fonts: skipping, no such directory\n",
            "/root/.fonts: skipping, no such directory\n",
            "/var/cache/fontconfig: cleaning cache directory\n",
            "/root/.cache/fontconfig: not cleaning non-existent cache directory\n",
            "/root/.fontconfig: not cleaning non-existent cache directory\n",
            "fc-cache: succeeded\n"
          ],
          "name": "stdout"
        }
      ]
    },
    {
      "cell_type": "code",
      "metadata": {
        "colab": {
          "base_uri": "https://localhost:8080/",
          "height": 291
        },
        "id": "T0TW-WfxsYZo",
        "outputId": "1adbaca8-9423-404f-b87d-b15a34c7e926"
      },
      "source": [
        "fp = open('지역평균기온.txt','r')\n",
        "data = fp.readlines()\n",
        "fp.close()\n",
        "\n",
        "dt = {}\n",
        "\n",
        "for line in data:\n",
        "  line = line.replace('\\n','')\n",
        "  items = line.split(',')\n",
        "  dt[items[0]]=items[1]\n",
        "\n",
        "print(dt)\n",
        "print()\n",
        "\n",
        "import matplotlib.pyplot as plt\n",
        "import warnings\n",
        "warnings.filterwarnings('ignore')\n",
        "\n",
        "plt.rc('font', family='NanumBarunGothic') # 한글 글꼴 설정\n",
        "plt.style.use('ggplot')\n",
        "\n",
        "plt.figure(figsize=(6,3))\n",
        "area = list(dt.keys())\n",
        "temp = list(dt.values())\n",
        "\n",
        "plt.plot(area, temp, 'go--', color='skyblue')\n",
        "plt.scatter(area, temp, c = 'blue')\n",
        "\n",
        "plt.title('지역평균기온')\n",
        "plt.xticks(rotation= 90)\n",
        "plt.show()\n"
      ],
      "execution_count": 41,
      "outputs": [
        {
          "output_type": "stream",
          "text": [
            "{'서울': '20', '부산': '26', '대구': '24', '인천': '24', '광주': '25', '대전': '22', '울산': '26', '세종': '23', '경기': '24', '강원': '23', '충북': '26', '충남': '22', '전북': '24', '전남': '23', '경북': '28', '경남': '29', '제주': '26'}\n",
            "\n"
          ],
          "name": "stdout"
        },
        {
          "output_type": "display_data",
          "data": {
            "image/png": "[encoded data removed]",
            "text/plain": [
              "<Figure size 432x216 with 1 Axes>"
            ]
          },
          "metadata": {
            "tags": []
          }
        }
      ]
    },
    {
      "cell_type": "code",
      "metadata": {
        "id": "wdHLOqivsQ0R"
      },
      "source": [
        ""
      ],
      "execution_count": null,
      "outputs": []
    }
  ]
}