{
  "nbformat": 4,
  "nbformat_minor": 0,
  "metadata": {
    "colab": {
      "name": "Untitled5.ipynb",
      "provenance": [],
      "authorship_tag": "ABX9TyP1mZMeaOwJNPC6cPNGhaGJ",
      "include_colab_link": true
    },
    "kernelspec": {
      "name": "python3",
      "display_name": "Python 3"
    },
    "language_info": {
      "name": "python"
    }
  },
  "cells": [
    {
      "cell_type": "markdown",
      "metadata": {
        "id": "view-in-github",
        "colab_type": "text"
      },
      "source": [
        "<a href=\"https://colab.research.google.com/github/ghghkdxoodns/python/blob/main/Untitled5.ipynb\" target=\"_parent\"><img src=\"https://colab.research.google.com/assets/colab-badge.svg\" alt=\"Open In Colab\"/></a>"
      ]
    },
    {
      "cell_type": "code",
      "metadata": {
        "colab": {
          "base_uri": "https://localhost:8080/"
        },
        "id": "-Hau5eEPaTKH",
        "outputId": "5f25d633-cba6-49e8-80f4-1a9fce05b939"
      },
      "source": [
        "import pandas as pd\n",
        "import numpy as np\n",
        "\n",
        "dates = pd.date_range('20201113', periods=6)\n",
        "\n",
        "df = pd.DataFrame(np.random.randn(6,4), index=dates, columns=list('ABCD'))\n",
        "\n",
        "print(df);print()"
      ],
      "execution_count": 1,
      "outputs": [
        {
          "output_type": "stream",
          "text": [
            "                   A         B         C         D\n",
            "2020-11-13 -1.583388  0.945714 -1.358301  0.052675\n",
            "2020-11-14  1.513680 -0.553155 -1.245122  0.340778\n",
            "2020-11-15 -0.091880  0.460685 -2.082490 -1.052833\n",
            "2020-11-16  0.457041  0.904956  1.933184  0.771826\n",
            "2020-11-17  0.113720  0.088823 -0.662343  1.737194\n",
            "2020-11-18 -0.144684 -0.609505  1.147577 -0.930287\n",
            "\n"
          ],
          "name": "stdout"
        }
      ]
    },
    {
      "cell_type": "code",
      "metadata": {
        "colab": {
          "base_uri": "https://localhost:8080/"
        },
        "id": "1tQsk0x1aiqk",
        "outputId": "17c8045d-401f-48e2-949d-4f8c3d6ac763"
      },
      "source": [
        "print(df.mean());print()\n",
        "print(df.mean(1));print()"
      ],
      "execution_count": 2,
      "outputs": [
        {
          "output_type": "stream",
          "text": [
            "A    0.044082\n",
            "B    0.206253\n",
            "C   -0.377916\n",
            "D    0.153225\n",
            "dtype: float64\n",
            "\n",
            "2020-11-13   -0.485825\n",
            "2020-11-14    0.014045\n",
            "2020-11-15   -0.691630\n",
            "2020-11-16    1.016752\n",
            "2020-11-17    0.319348\n",
            "2020-11-18   -0.134225\n",
            "Freq: D, dtype: float64\n",
            "\n"
          ],
          "name": "stdout"
        }
      ]
    },
    {
      "cell_type": "code",
      "metadata": {
        "colab": {
          "base_uri": "https://localhost:8080/"
        },
        "id": "WzJifpA9aoCr",
        "outputId": "9b267034-5cc8-415d-8137-9d3092793926"
      },
      "source": [
        "s = pd.Series([1, 3, 5, np.nan, 6, 8], index=dates).shift(2)\n",
        "print(s);print()\n"
      ],
      "execution_count": 3,
      "outputs": [
        {
          "output_type": "stream",
          "text": [
            "2020-11-13    NaN\n",
            "2020-11-14    NaN\n",
            "2020-11-15    1.0\n",
            "2020-11-16    3.0\n",
            "2020-11-17    5.0\n",
            "2020-11-18    NaN\n",
            "Freq: D, dtype: float64\n",
            "\n"
          ],
          "name": "stdout"
        }
      ]
    },
    {
      "cell_type": "code",
      "metadata": {
        "colab": {
          "base_uri": "https://localhost:8080/"
        },
        "id": "dk45cDqmawSk",
        "outputId": "69bbec3c-147c-4049-a1b7-d1f1a124f49f"
      },
      "source": [
        "print(df.sub(s, axis='index'))"
      ],
      "execution_count": 4,
      "outputs": [
        {
          "output_type": "stream",
          "text": [
            "                   A         B         C         D\n",
            "2020-11-13       NaN       NaN       NaN       NaN\n",
            "2020-11-14       NaN       NaN       NaN       NaN\n",
            "2020-11-15 -1.091880 -0.539315 -3.082490 -2.052833\n",
            "2020-11-16 -2.542959 -2.095044 -1.066816 -2.228174\n",
            "2020-11-17 -4.886280 -4.911177 -5.662343 -3.262806\n",
            "2020-11-18       NaN       NaN       NaN       NaN\n"
          ],
          "name": "stdout"
        }
      ]
    },
    {
      "cell_type": "code",
      "metadata": {
        "id": "bR2vaT4Na1It"
      },
      "source": [
        "import pandas as pd\n",
        "import numpy as np"
      ],
      "execution_count": 6,
      "outputs": []
    },
    {
      "cell_type": "code",
      "metadata": {
        "id": "RZMDUWp3bGD3"
      },
      "source": [
        "dates = pd.date_range('20201113', periods=6)\n",
        "df = pd.DataFrame(np.random.randn(6,4), index=dates, columns=list('ABCD'))"
      ],
      "execution_count": 10,
      "outputs": []
    },
    {
      "cell_type": "code",
      "metadata": {
        "colab": {
          "base_uri": "https://localhost:8080/"
        },
        "id": "rQ1INfr0bMTg",
        "outputId": "9ff86dc1-3ea3-4070-d88d-c22865cf2237"
      },
      "source": [
        "print(df);print()"
      ],
      "execution_count": 11,
      "outputs": [
        {
          "output_type": "stream",
          "text": [
            "                   A         B         C         D\n",
            "2020-11-13 -1.391964 -0.586489  0.555378  0.041009\n",
            "2020-11-14  0.461610  0.404637 -2.300289 -0.251101\n",
            "2020-11-15 -1.512870  0.624886  1.129840  0.254778\n",
            "2020-11-16 -0.096148 -1.485593  0.811705  0.156237\n",
            "2020-11-17  1.011928  1.027597  0.712997 -0.339271\n",
            "2020-11-18  0.873816 -1.360716  0.397771 -0.120589\n",
            "\n"
          ],
          "name": "stdout"
        }
      ]
    },
    {
      "cell_type": "code",
      "metadata": {
        "id": "qYO9PqglbSbA"
      },
      "source": [
        "s = pd.Series(np.random.randint(0, 7, size = 10))"
      ],
      "execution_count": 12,
      "outputs": []
    },
    {
      "cell_type": "code",
      "metadata": {
        "colab": {
          "base_uri": "https://localhost:8080/"
        },
        "id": "xE8xnwqzbVS6",
        "outputId": "50e5ef5f-8160-4100-a99b-54c8b5ea7c87"
      },
      "source": [
        "print(s);print()"
      ],
      "execution_count": 13,
      "outputs": [
        {
          "output_type": "stream",
          "text": [
            "0    6\n",
            "1    1\n",
            "2    0\n",
            "3    6\n",
            "4    3\n",
            "5    5\n",
            "6    2\n",
            "7    6\n",
            "8    2\n",
            "9    5\n",
            "dtype: int64\n",
            "\n"
          ],
          "name": "stdout"
        }
      ]
    },
    {
      "cell_type": "code",
      "metadata": {
        "colab": {
          "base_uri": "https://localhost:8080/"
        },
        "id": "2N3qmutwbXUd",
        "outputId": "2cde20f7-4e5f-4fda-d87e-c7db999fa1ec"
      },
      "source": [
        "print(s.value_counts())"
      ],
      "execution_count": 14,
      "outputs": [
        {
          "output_type": "stream",
          "text": [
            "6    3\n",
            "5    2\n",
            "2    2\n",
            "3    1\n",
            "1    1\n",
            "0    1\n",
            "dtype: int64\n"
          ],
          "name": "stdout"
        }
      ]
    },
    {
      "cell_type": "code",
      "metadata": {
        "id": "Vym1HfkibbEG"
      },
      "source": [
        "import pandas as pd\n",
        "import numpy as np"
      ],
      "execution_count": 15,
      "outputs": []
    },
    {
      "cell_type": "code",
      "metadata": {
        "id": "GsVmrbGzcJ0v"
      },
      "source": [
        "df = pd.DataFrame(np.random.randn(10, 4))"
      ],
      "execution_count": 16,
      "outputs": []
    },
    {
      "cell_type": "code",
      "metadata": {
        "colab": {
          "base_uri": "https://localhost:8080/"
        },
        "id": "j7LdqYt2cNlz",
        "outputId": "40ceb737-62ed-4df6-ee31-6f044fb28623"
      },
      "source": [
        "print(df);print()"
      ],
      "execution_count": 17,
      "outputs": [
        {
          "output_type": "stream",
          "text": [
            "          0         1         2         3\n",
            "0  0.732505  1.100436 -0.213997  1.205458\n",
            "1 -1.768923  0.275772 -0.220923  0.584481\n",
            "2 -0.182929 -2.114653  0.277005 -0.373195\n",
            "3  2.465248 -1.274064  0.642995 -0.857071\n",
            "4  0.928368 -0.368145 -0.915591  0.743933\n",
            "5  1.601155 -0.913436 -0.750405  1.083601\n",
            "6  0.964417  0.628909 -2.028304 -0.337357\n",
            "7  0.950572  1.117906 -1.217989 -1.155538\n",
            "8 -0.838633  0.106806  0.288256 -1.322999\n",
            "9 -1.020788 -0.770191  0.880451  1.737534\n",
            "\n"
          ],
          "name": "stdout"
        }
      ]
    },
    {
      "cell_type": "code",
      "metadata": {
        "id": "Icgkz8UDcP2V"
      },
      "source": [
        "pieces = [df[:3], df[3:7], df[7:]]"
      ],
      "execution_count": 18,
      "outputs": []
    },
    {
      "cell_type": "code",
      "metadata": {
        "colab": {
          "base_uri": "https://localhost:8080/"
        },
        "id": "tEbdgFx0cSnc",
        "outputId": "602106d6-1a50-4fa1-b7e4-4f4cc4e9c7d7"
      },
      "source": [
        "print(pieces);print()"
      ],
      "execution_count": 19,
      "outputs": [
        {
          "output_type": "stream",
          "text": [
            "[          0         1         2         3\n",
            "0  0.732505  1.100436 -0.213997  1.205458\n",
            "1 -1.768923  0.275772 -0.220923  0.584481\n",
            "2 -0.182929 -2.114653  0.277005 -0.373195,           0         1         2         3\n",
            "3  2.465248 -1.274064  0.642995 -0.857071\n",
            "4  0.928368 -0.368145 -0.915591  0.743933\n",
            "5  1.601155 -0.913436 -0.750405  1.083601\n",
            "6  0.964417  0.628909 -2.028304 -0.337357,           0         1         2         3\n",
            "7  0.950572  1.117906 -1.217989 -1.155538\n",
            "8 -0.838633  0.106806  0.288256 -1.322999\n",
            "9 -1.020788 -0.770191  0.880451  1.737534]\n",
            "\n"
          ],
          "name": "stdout"
        }
      ]
    },
    {
      "cell_type": "code",
      "metadata": {
        "colab": {
          "base_uri": "https://localhost:8080/"
        },
        "id": "_ulmuXgzcVFA",
        "outputId": "5a97f713-5d45-49d7-ef44-aadb8d948a0f"
      },
      "source": [
        "print(pd.concat(pieces))"
      ],
      "execution_count": 20,
      "outputs": [
        {
          "output_type": "stream",
          "text": [
            "          0         1         2         3\n",
            "0  0.732505  1.100436 -0.213997  1.205458\n",
            "1 -1.768923  0.275772 -0.220923  0.584481\n",
            "2 -0.182929 -2.114653  0.277005 -0.373195\n",
            "3  2.465248 -1.274064  0.642995 -0.857071\n",
            "4  0.928368 -0.368145 -0.915591  0.743933\n",
            "5  1.601155 -0.913436 -0.750405  1.083601\n",
            "6  0.964417  0.628909 -2.028304 -0.337357\n",
            "7  0.950572  1.117906 -1.217989 -1.155538\n",
            "8 -0.838633  0.106806  0.288256 -1.322999\n",
            "9 -1.020788 -0.770191  0.880451  1.737534\n"
          ],
          "name": "stdout"
        }
      ]
    },
    {
      "cell_type": "code",
      "metadata": {
        "id": "qkKr2_4CcYH9"
      },
      "source": [
        "import pandas as pd\n",
        "import numpy as np"
      ],
      "execution_count": 21,
      "outputs": []
    },
    {
      "cell_type": "code",
      "metadata": {
        "id": "lvyyuL96cc_H"
      },
      "source": [
        "left = pd.DataFrame({'key':['foo', 'foo'], 'lval': [1, 2]})\n",
        "right = pd.DataFrame({'key':['foo', 'foo'], 'rval': [4, 5]})"
      ],
      "execution_count": 22,
      "outputs": []
    },
    {
      "cell_type": "code",
      "metadata": {
        "colab": {
          "base_uri": "https://localhost:8080/"
        },
        "id": "hnwwWpq6cikb",
        "outputId": "508c9443-da40-45cc-b1ac-6bd0ca16f89d"
      },
      "source": [
        "print(left);print()"
      ],
      "execution_count": 23,
      "outputs": [
        {
          "output_type": "stream",
          "text": [
            "   key  lval\n",
            "0  foo     1\n",
            "1  foo     2\n",
            "\n"
          ],
          "name": "stdout"
        }
      ]
    },
    {
      "cell_type": "code",
      "metadata": {
        "colab": {
          "base_uri": "https://localhost:8080/"
        },
        "id": "0HN-ga3Dck82",
        "outputId": "c6316915-7e1f-4441-91e7-07181fe2a63b"
      },
      "source": [
        "print(right);print()"
      ],
      "execution_count": 24,
      "outputs": [
        {
          "output_type": "stream",
          "text": [
            "   key  rval\n",
            "0  foo     4\n",
            "1  foo     5\n",
            "\n"
          ],
          "name": "stdout"
        }
      ]
    },
    {
      "cell_type": "code",
      "metadata": {
        "id": "_rJGm06CcmfH"
      },
      "source": [
        "pd_merge = pd.merge(left, right, on = 'key')"
      ],
      "execution_count": 25,
      "outputs": []
    },
    {
      "cell_type": "code",
      "metadata": {
        "colab": {
          "base_uri": "https://localhost:8080/"
        },
        "id": "WjSdBHRNcpLa",
        "outputId": "f4ff460c-a1a7-45e8-90aa-e0281fb721f1"
      },
      "source": [
        "print(pd_merge)"
      ],
      "execution_count": 26,
      "outputs": [
        {
          "output_type": "stream",
          "text": [
            "   key  lval  rval\n",
            "0  foo     1     4\n",
            "1  foo     1     5\n",
            "2  foo     2     4\n",
            "3  foo     2     5\n"
          ],
          "name": "stdout"
        }
      ]
    },
    {
      "cell_type": "code",
      "metadata": {
        "id": "s1LI7OOOctVU"
      },
      "source": [
        "left = pd.DataFrame({'key':['foo', 'bar'], 'lval': [1, 2]})\n",
        "right = pd.DataFrame({'key':['foo', 'bar'], 'rval': [4, 5]})"
      ],
      "execution_count": 28,
      "outputs": []
    },
    {
      "cell_type": "code",
      "metadata": {
        "colab": {
          "base_uri": "https://localhost:8080/"
        },
        "id": "L54TgI5ucvwB",
        "outputId": "69bec0ec-9d95-4cde-fdf5-c3efd1f04bc9"
      },
      "source": [
        "pd_merge = pd.merge(left, right, on = 'key')\n",
        "print(pd_merge)"
      ],
      "execution_count": 29,
      "outputs": [
        {
          "output_type": "stream",
          "text": [
            "   key  lval  rval\n",
            "0  foo     1     4\n",
            "1  bar     2     5\n"
          ],
          "name": "stdout"
        }
      ]
    },
    {
      "cell_type": "code",
      "metadata": {
        "id": "s5_qiyAMcyzk"
      },
      "source": [
        "import pandas as pd\n",
        "import numpy as np\n",
        "\n",
        "df = pd.DataFrame(np.random.randn(8, 4), columns=['A', 'B', 'C', 'D'])\n"
      ],
      "execution_count": 30,
      "outputs": []
    },
    {
      "cell_type": "code",
      "metadata": {
        "colab": {
          "base_uri": "https://localhost:8080/"
        },
        "id": "LI8n7V5Yc6kP",
        "outputId": "b5b279da-ff78-4d3c-f2ff-44a54fdee775"
      },
      "source": [
        "print(df);print()"
      ],
      "execution_count": 31,
      "outputs": [
        {
          "output_type": "stream",
          "text": [
            "          A         B         C         D\n",
            "0  0.403241  0.615876  0.940452  1.025209\n",
            "1 -0.348217 -0.988713  0.891565  1.482394\n",
            "2  0.432083  1.257318 -0.725198 -0.917857\n",
            "3 -0.524750  1.197012 -1.324817 -0.982929\n",
            "4  0.159005 -0.069096  0.008363 -0.337985\n",
            "5  1.859022 -0.275548 -1.507038 -0.375215\n",
            "6 -0.192971 -0.832638 -0.535198  0.049415\n",
            "7 -1.600345  0.242324 -2.347878 -0.883686\n",
            "\n"
          ],
          "name": "stdout"
        }
      ]
    },
    {
      "cell_type": "code",
      "metadata": {
        "colab": {
          "base_uri": "https://localhost:8080/"
        },
        "id": "88g6vOvLc-YN",
        "outputId": "4a229cb6-2f73-4dfa-ae00-b1c2aaaa0609"
      },
      "source": [
        "s = df.iloc[3]\n",
        "print(s);print()"
      ],
      "execution_count": 32,
      "outputs": [
        {
          "output_type": "stream",
          "text": [
            "A   -0.524750\n",
            "B    1.197012\n",
            "C   -1.324817\n",
            "D   -0.982929\n",
            "Name: 3, dtype: float64\n",
            "\n"
          ],
          "name": "stdout"
        }
      ]
    },
    {
      "cell_type": "code",
      "metadata": {
        "colab": {
          "base_uri": "https://localhost:8080/"
        },
        "id": "Etw0TogxdCXj",
        "outputId": "60502ef8-779d-4374-e8bc-8e9cd070a973"
      },
      "source": [
        "print(df.append(s, ignore_index=True))"
      ],
      "execution_count": 33,
      "outputs": [
        {
          "output_type": "stream",
          "text": [
            "          A         B         C         D\n",
            "0  0.403241  0.615876  0.940452  1.025209\n",
            "1 -0.348217 -0.988713  0.891565  1.482394\n",
            "2  0.432083  1.257318 -0.725198 -0.917857\n",
            "3 -0.524750  1.197012 -1.324817 -0.982929\n",
            "4  0.159005 -0.069096  0.008363 -0.337985\n",
            "5  1.859022 -0.275548 -1.507038 -0.375215\n",
            "6 -0.192971 -0.832638 -0.535198  0.049415\n",
            "7 -1.600345  0.242324 -2.347878 -0.883686\n",
            "8 -0.524750  1.197012 -1.324817 -0.982929\n"
          ],
          "name": "stdout"
        }
      ]
    },
    {
      "cell_type": "code",
      "metadata": {
        "id": "FQajWsrtdEuD"
      },
      "source": [
        "import pandas as pd\n",
        "import numpy as np\n",
        "\n",
        "df = pd.DataFrame(\n",
        "    {\n",
        "        'A' : ['foo', 'bar', 'foo', 'bar', 'foo', 'bar', 'foo', 'bar'],\n",
        "        'B' : ['one', 'one', 'two', 'three', 'two', 'two', 'one', 'three'],\n",
        "        'C' : np.random.randn(8),\n",
        "        'D' : np.random.randn(8)\n",
        "    }\n",
        ")"
      ],
      "execution_count": 34,
      "outputs": []
    },
    {
      "cell_type": "code",
      "metadata": {
        "colab": {
          "base_uri": "https://localhost:8080/"
        },
        "id": "ruEM6pHjdSkW",
        "outputId": "4d338072-4abe-4cc4-e740-1f51d9fa7854"
      },
      "source": [
        "print(df);print()"
      ],
      "execution_count": 35,
      "outputs": [
        {
          "output_type": "stream",
          "text": [
            "     A      B         C         D\n",
            "0  foo    one  0.165507 -0.689548\n",
            "1  bar    one  0.350812  1.213159\n",
            "2  foo    two  0.364239 -1.240582\n",
            "3  bar  three  0.703750 -1.496738\n",
            "4  foo    two  0.410233  1.067260\n",
            "5  bar    two -1.168339 -0.787337\n",
            "6  foo    one -1.279088  0.320025\n",
            "7  bar  three -0.201391 -0.309787\n",
            "\n"
          ],
          "name": "stdout"
        }
      ]
    },
    {
      "cell_type": "code",
      "metadata": {
        "id": "NeDb-mL5dUsD"
      },
      "source": [
        "a = df.groupby('A').sum()"
      ],
      "execution_count": 36,
      "outputs": []
    },
    {
      "cell_type": "code",
      "metadata": {
        "colab": {
          "base_uri": "https://localhost:8080/"
        },
        "id": "MlPoxgFAdXU1",
        "outputId": "f71821a6-eac5-41b9-c859-1dec51c8fd55"
      },
      "source": [
        "print(a);print()"
      ],
      "execution_count": 37,
      "outputs": [
        {
          "output_type": "stream",
          "text": [
            "            C         D\n",
            "A                      \n",
            "bar -0.315168 -1.380703\n",
            "foo -0.339109 -0.542846\n",
            "\n"
          ],
          "name": "stdout"
        }
      ]
    },
    {
      "cell_type": "code",
      "metadata": {
        "id": "R5T54pb0dZWt"
      },
      "source": [
        "b = df.groupby(['A', 'B']).sum()"
      ],
      "execution_count": 38,
      "outputs": []
    },
    {
      "cell_type": "code",
      "metadata": {
        "colab": {
          "base_uri": "https://localhost:8080/"
        },
        "id": "CxTL0Gi-da7s",
        "outputId": "045af1d5-8896-4e47-f140-76bd3d288a3b"
      },
      "source": [
        "print(b);print()"
      ],
      "execution_count": 39,
      "outputs": [
        {
          "output_type": "stream",
          "text": [
            "                  C         D\n",
            "A   B                        \n",
            "bar one    0.350812  1.213159\n",
            "    three  0.502359 -1.806524\n",
            "    two   -1.168339 -0.787337\n",
            "foo one   -1.113581 -0.369523\n",
            "    two    0.774472 -0.173322\n",
            "\n"
          ],
          "name": "stdout"
        }
      ]
    },
    {
      "cell_type": "code",
      "metadata": {
        "id": "43wf-gLVddMl"
      },
      "source": [
        "x = [1, 2, 3]\n",
        "y = [4, 5, 6]"
      ],
      "execution_count": 40,
      "outputs": []
    },
    {
      "cell_type": "code",
      "metadata": {
        "id": "1JedBHlxdh5q"
      },
      "source": [
        "zipped = zip(x,y)"
      ],
      "execution_count": 41,
      "outputs": []
    },
    {
      "cell_type": "code",
      "metadata": {
        "colab": {
          "base_uri": "https://localhost:8080/"
        },
        "id": "fdyl5U2HdkWx",
        "outputId": "8634d430-fdf7-4df9-ee29-cb5ec61f3288"
      },
      "source": [
        "list(zipped)"
      ],
      "execution_count": 42,
      "outputs": [
        {
          "output_type": "execute_result",
          "data": {
            "text/plain": [
              "[(1, 4), (2, 5), (3, 6)]"
            ]
          },
          "metadata": {
            "tags": []
          },
          "execution_count": 42
        }
      ]
    },
    {
      "cell_type": "code",
      "metadata": {
        "id": "921xsI_gdnOC"
      },
      "source": [
        "x2, y2 = zip(*zip(x,y))"
      ],
      "execution_count": 43,
      "outputs": []
    },
    {
      "cell_type": "code",
      "metadata": {
        "colab": {
          "base_uri": "https://localhost:8080/"
        },
        "id": "BpfUMRPLdpaG",
        "outputId": "47a63869-99f8-47c2-9ac1-77134efed1c9"
      },
      "source": [
        "print(x2)\n",
        "print(y2)"
      ],
      "execution_count": 44,
      "outputs": [
        {
          "output_type": "stream",
          "text": [
            "(1, 2, 3)\n",
            "(4, 5, 6)\n"
          ],
          "name": "stdout"
        }
      ]
    },
    {
      "cell_type": "code",
      "metadata": {
        "id": "Jz49X7F2ds-K"
      },
      "source": [
        "import pandas as pd\n",
        "import numpy as np\n"
      ],
      "execution_count": 45,
      "outputs": []
    },
    {
      "cell_type": "code",
      "metadata": {
        "id": "PJiYxuGgdv7t"
      },
      "source": [
        "df = pd.DataFrame(\n",
        "    {\n",
        "        'A' : ['one', 'one', 'two', 'three'] * 3,\n",
        "        'B' : ['A', 'B', 'C'] * 4,\n",
        "        'C' : ['foo', 'foo', 'foo', 'bar', 'bar', 'bar' ] * 2,\n",
        "        'D' : np.random.randn(12),\n",
        "        'E' : np.random.randn(12)\n",
        "    }\n",
        ")"
      ],
      "execution_count": 46,
      "outputs": []
    },
    {
      "cell_type": "code",
      "metadata": {
        "colab": {
          "base_uri": "https://localhost:8080/"
        },
        "id": "Ipa5JDqud1oJ",
        "outputId": "a18f0821-80f0-490d-a9d4-08ce4a75449a"
      },
      "source": [
        "print(df);print()"
      ],
      "execution_count": 47,
      "outputs": [
        {
          "output_type": "stream",
          "text": [
            "        A  B    C         D         E\n",
            "0     one  A  foo -0.382573  0.112098\n",
            "1     one  B  foo -0.070394  1.443445\n",
            "2     two  C  foo -0.163058 -0.663218\n",
            "3   three  A  bar  0.871897 -0.904700\n",
            "4     one  B  bar  0.616701 -0.820429\n",
            "5     one  C  bar -1.847391 -0.939562\n",
            "6     two  A  foo -0.118677  0.259968\n",
            "7   three  B  foo  0.720140 -0.017348\n",
            "8     one  C  foo  0.840968 -1.149793\n",
            "9     one  A  bar -0.897073 -0.634268\n",
            "10    two  B  bar  0.813055 -0.058718\n",
            "11  three  C  bar  0.301442  0.178482\n",
            "\n"
          ],
          "name": "stdout"
        }
      ]
    },
    {
      "cell_type": "code",
      "metadata": {
        "colab": {
          "base_uri": "https://localhost:8080/",
          "height": 359
        },
        "id": "hHNGHcx8d9V7",
        "outputId": "adc7a9f5-605c-4230-cc18-515a4f5f011d"
      },
      "source": [
        "pd.pivot_table(df, values = 'D', index = ['A', 'B'], columns = ['C'])"
      ],
      "execution_count": 49,
      "outputs": [
        {
          "output_type": "execute_result",
          "data": {
            "text/html": [
              "<div>\n",
              "<style scoped>\n",
              "    .dataframe tbody tr th:only-of-type {\n",
              "        vertical-align: middle;\n",
              "    }\n",
              "\n",
              "    .dataframe tbody tr th {\n",
              "        vertical-align: top;\n",
              "    }\n",
              "\n",
              "    .dataframe thead th {\n",
              "        text-align: right;\n",
              "    }\n",
              "</style>\n",
              "<table border=\"1\" class=\"dataframe\">\n",
              "  <thead>\n",
              "    <tr style=\"text-align: right;\">\n",
              "      <th></th>\n",
              "      <th>C</th>\n",
              "      <th>bar</th>\n",
              "      <th>foo</th>\n",
              "    </tr>\n",
              "    <tr>\n",
              "      <th>A</th>\n",
              "      <th>B</th>\n",
              "      <th></th>\n",
              "      <th></th>\n",
              "    </tr>\n",
              "  </thead>\n",
              "  <tbody>\n",
              "    <tr>\n",
              "      <th rowspan=\"3\" valign=\"top\">one</th>\n",
              "      <th>A</th>\n",
              "      <td>-0.897073</td>\n",
              "      <td>-0.382573</td>\n",
              "    </tr>\n",
              "    <tr>\n",
              "      <th>B</th>\n",
              "      <td>0.616701</td>\n",
              "      <td>-0.070394</td>\n",
              "    </tr>\n",
              "    <tr>\n",
              "      <th>C</th>\n",
              "      <td>-1.847391</td>\n",
              "      <td>0.840968</td>\n",
              "    </tr>\n",
              "    <tr>\n",
              "      <th rowspan=\"3\" valign=\"top\">three</th>\n",
              "      <th>A</th>\n",
              "      <td>0.871897</td>\n",
              "      <td>NaN</td>\n",
              "    </tr>\n",
              "    <tr>\n",
              "      <th>B</th>\n",
              "      <td>NaN</td>\n",
              "      <td>0.720140</td>\n",
              "    </tr>\n",
              "    <tr>\n",
              "      <th>C</th>\n",
              "      <td>0.301442</td>\n",
              "      <td>NaN</td>\n",
              "    </tr>\n",
              "    <tr>\n",
              "      <th rowspan=\"3\" valign=\"top\">two</th>\n",
              "      <th>A</th>\n",
              "      <td>NaN</td>\n",
              "      <td>-0.118677</td>\n",
              "    </tr>\n",
              "    <tr>\n",
              "      <th>B</th>\n",
              "      <td>0.813055</td>\n",
              "      <td>NaN</td>\n",
              "    </tr>\n",
              "    <tr>\n",
              "      <th>C</th>\n",
              "      <td>NaN</td>\n",
              "      <td>-0.163058</td>\n",
              "    </tr>\n",
              "  </tbody>\n",
              "</table>\n",
              "</div>"
            ],
            "text/plain": [
              "C             bar       foo\n",
              "A     B                    \n",
              "one   A -0.897073 -0.382573\n",
              "      B  0.616701 -0.070394\n",
              "      C -1.847391  0.840968\n",
              "three A  0.871897       NaN\n",
              "      B       NaN  0.720140\n",
              "      C  0.301442       NaN\n",
              "two   A       NaN -0.118677\n",
              "      B  0.813055       NaN\n",
              "      C       NaN -0.163058"
            ]
          },
          "metadata": {
            "tags": []
          },
          "execution_count": 49
        }
      ]
    },
    {
      "cell_type": "code",
      "metadata": {
        "id": "pyWSEBdpeCG5"
      },
      "source": [
        "import pandas as pd\n",
        "import numpy as np"
      ],
      "execution_count": 50,
      "outputs": []
    },
    {
      "cell_type": "code",
      "metadata": {
        "id": "HeZMiBEkeVxC"
      },
      "source": [
        "rng = pd.date_range('11/14/2020', periods=100, freq='S')"
      ],
      "execution_count": 51,
      "outputs": []
    },
    {
      "cell_type": "code",
      "metadata": {
        "id": "utCD6TLWeYz_"
      },
      "source": [
        "ts = pd.Series(np.random.randint(0, 500, len(rng)), index = rng)"
      ],
      "execution_count": 52,
      "outputs": []
    },
    {
      "cell_type": "code",
      "metadata": {
        "colab": {
          "base_uri": "https://localhost:8080/"
        },
        "id": "cYzDBPtteb57",
        "outputId": "05049d4e-bde9-4d0b-ad49-bca4a9fc9348"
      },
      "source": [
        "print(ts.resample('5min').sum());print()"
      ],
      "execution_count": 53,
      "outputs": [
        {
          "output_type": "stream",
          "text": [
            "2020-11-14    21831\n",
            "Freq: 5T, dtype: int64\n",
            "\n"
          ],
          "name": "stdout"
        }
      ]
    },
    {
      "cell_type": "code",
      "metadata": {
        "id": "s1KJHp7kfCrq"
      },
      "source": [
        "import pandas as pd\n",
        "import numpy as np"
      ],
      "execution_count": 54,
      "outputs": []
    },
    {
      "cell_type": "code",
      "metadata": {
        "id": "saJdwy6HfLOM"
      },
      "source": [
        "rng = pd.date_range('11/14/2020', periods=5, freq='D')\n"
      ],
      "execution_count": 56,
      "outputs": []
    },
    {
      "cell_type": "code",
      "metadata": {
        "id": "znBB4KAMfPTa"
      },
      "source": [
        "ts = pd.Series(np.random.randn(len(rng)), rng)\n"
      ],
      "execution_count": 57,
      "outputs": []
    },
    {
      "cell_type": "code",
      "metadata": {
        "colab": {
          "base_uri": "https://localhost:8080/"
        },
        "id": "LbjiQp-wfRIB",
        "outputId": "2da8cf8d-525f-43aa-ccc2-18410e3c749b"
      },
      "source": [
        "print(ts);print()"
      ],
      "execution_count": 58,
      "outputs": [
        {
          "output_type": "stream",
          "text": [
            "2020-11-14   -1.308974\n",
            "2020-11-15   -0.350657\n",
            "2020-11-16   -0.798092\n",
            "2020-11-17   -2.018557\n",
            "2020-11-18    0.283482\n",
            "Freq: D, dtype: float64\n",
            "\n"
          ],
          "name": "stdout"
        }
      ]
    },
    {
      "cell_type": "code",
      "metadata": {
        "id": "ZHZ7UkrtfScU"
      },
      "source": [
        "ts_utc = ts.tz_localize('UTC')"
      ],
      "execution_count": 59,
      "outputs": []
    },
    {
      "cell_type": "code",
      "metadata": {
        "colab": {
          "base_uri": "https://localhost:8080/"
        },
        "id": "iNfqQt2efUz0",
        "outputId": "bea9e9a7-5fd6-4ee3-cfb5-f4e02bc761fe"
      },
      "source": [
        "print(ts_utc);print()"
      ],
      "execution_count": 60,
      "outputs": [
        {
          "output_type": "stream",
          "text": [
            "2020-11-14 00:00:00+00:00   -1.308974\n",
            "2020-11-15 00:00:00+00:00   -0.350657\n",
            "2020-11-16 00:00:00+00:00   -0.798092\n",
            "2020-11-17 00:00:00+00:00   -2.018557\n",
            "2020-11-18 00:00:00+00:00    0.283482\n",
            "Freq: D, dtype: float64\n",
            "\n"
          ],
          "name": "stdout"
        }
      ]
    },
    {
      "cell_type": "code",
      "metadata": {
        "id": "Luzu0nOcfWoX"
      },
      "source": [
        "ts_utc_us=ts_utc.tz_convert('Asia/Seoul')"
      ],
      "execution_count": 61,
      "outputs": []
    },
    {
      "cell_type": "code",
      "metadata": {
        "colab": {
          "base_uri": "https://localhost:8080/"
        },
        "id": "YSYLqWq3fYOf",
        "outputId": "9c3d8a27-3447-4904-d0f8-4a47c0928217"
      },
      "source": [
        "print(ts_utc_us);print()"
      ],
      "execution_count": 62,
      "outputs": [
        {
          "output_type": "stream",
          "text": [
            "2020-11-14 09:00:00+09:00   -1.308974\n",
            "2020-11-15 09:00:00+09:00   -0.350657\n",
            "2020-11-16 09:00:00+09:00   -0.798092\n",
            "2020-11-17 09:00:00+09:00   -2.018557\n",
            "2020-11-18 09:00:00+09:00    0.283482\n",
            "Freq: D, dtype: float64\n",
            "\n"
          ],
          "name": "stdout"
        }
      ]
    },
    {
      "cell_type": "code",
      "metadata": {
        "id": "CL4CJH6NfaMT"
      },
      "source": [
        "import pandas as pd\n",
        "import numpy as np"
      ],
      "execution_count": 63,
      "outputs": []
    },
    {
      "cell_type": "code",
      "metadata": {
        "id": "YgnNCH4Wfc21"
      },
      "source": [
        "rng = pd.date_range('11/14/2020', periods=5, freq='M')"
      ],
      "execution_count": 64,
      "outputs": []
    },
    {
      "cell_type": "code",
      "metadata": {
        "id": "vzdYBOxPfffl"
      },
      "source": [
        "ts = pd.Series(np.random.randn(len(rng)), rng)"
      ],
      "execution_count": 65,
      "outputs": []
    },
    {
      "cell_type": "code",
      "metadata": {
        "colab": {
          "base_uri": "https://localhost:8080/"
        },
        "id": "486oHgXffgvt",
        "outputId": "bf037eda-1bd3-4092-a8de-3bc837a237e1"
      },
      "source": [
        "print(ts);print()"
      ],
      "execution_count": 66,
      "outputs": [
        {
          "output_type": "stream",
          "text": [
            "2020-11-30    1.604911\n",
            "2020-12-31   -0.445475\n",
            "2021-01-31    0.149020\n",
            "2021-02-28   -1.746026\n",
            "2021-03-31   -0.061686\n",
            "Freq: M, dtype: float64\n",
            "\n"
          ],
          "name": "stdout"
        }
      ]
    },
    {
      "cell_type": "code",
      "metadata": {
        "id": "gAXK2DN9fiSW"
      },
      "source": [
        "ps = ts.to_period()"
      ],
      "execution_count": 67,
      "outputs": []
    },
    {
      "cell_type": "code",
      "metadata": {
        "colab": {
          "base_uri": "https://localhost:8080/"
        },
        "id": "0PfaSiNwfkP5",
        "outputId": "247ad08c-dbee-4a20-9fb0-0386b2cd1993"
      },
      "source": [
        "print(ps);print()"
      ],
      "execution_count": 68,
      "outputs": [
        {
          "output_type": "stream",
          "text": [
            "2020-11    1.604911\n",
            "2020-12   -0.445475\n",
            "2021-01    0.149020\n",
            "2021-02   -1.746026\n",
            "2021-03   -0.061686\n",
            "Freq: M, dtype: float64\n",
            "\n"
          ],
          "name": "stdout"
        }
      ]
    },
    {
      "cell_type": "code",
      "metadata": {
        "colab": {
          "base_uri": "https://localhost:8080/"
        },
        "id": "nqiSuUICfl1_",
        "outputId": "e4dc30dc-c371-41cc-949e-b78a609bf113"
      },
      "source": [
        "print(ps.to_timestamp())"
      ],
      "execution_count": 69,
      "outputs": [
        {
          "output_type": "stream",
          "text": [
            "2020-11-01    1.604911\n",
            "2020-12-01   -0.445475\n",
            "2021-01-01    0.149020\n",
            "2021-02-01   -1.746026\n",
            "2021-03-01   -0.061686\n",
            "Freq: MS, dtype: float64\n"
          ],
          "name": "stdout"
        }
      ]
    },
    {
      "cell_type": "code",
      "metadata": {
        "id": "9DmtVdcHfnxK"
      },
      "source": [
        "import pandas as pd\n",
        "import numpy as np"
      ],
      "execution_count": 70,
      "outputs": []
    },
    {
      "cell_type": "code",
      "metadata": {
        "id": "MFNSI_RTfrCj"
      },
      "source": [
        "prng = pd.period_range('1990Q1', '2020Q4', freq='Q-NOV')"
      ],
      "execution_count": 71,
      "outputs": []
    },
    {
      "cell_type": "code",
      "metadata": {
        "colab": {
          "base_uri": "https://localhost:8080/"
        },
        "id": "AJBI9tAZftDT",
        "outputId": "48848186-c40e-4c70-eb19-1621575bc198"
      },
      "source": [
        "print(prng);print()"
      ],
      "execution_count": 73,
      "outputs": [
        {
          "output_type": "stream",
          "text": [
            "PeriodIndex(['1990Q1', '1990Q2', '1990Q3', '1990Q4', '1991Q1', '1991Q2',\n",
            "             '1991Q3', '1991Q4', '1992Q1', '1992Q2',\n",
            "             ...\n",
            "             '2018Q3', '2018Q4', '2019Q1', '2019Q2', '2019Q3', '2019Q4',\n",
            "             '2020Q1', '2020Q2', '2020Q3', '2020Q4'],\n",
            "            dtype='period[Q-NOV]', length=124, freq='Q-NOV')\n",
            "\n"
          ],
          "name": "stdout"
        }
      ]
    },
    {
      "cell_type": "code",
      "metadata": {
        "id": "QQC7Gtw5fwMf"
      },
      "source": [
        "ts = pd.Series(np.random.randn(len(prng)), prng)"
      ],
      "execution_count": 75,
      "outputs": []
    },
    {
      "cell_type": "code",
      "metadata": {
        "id": "uwALySt3f0ap"
      },
      "source": [
        "ts.index = (prng.asfreq('M', 'e') + 1).asfreq('H', 's') + 9"
      ],
      "execution_count": 76,
      "outputs": []
    },
    {
      "cell_type": "code",
      "metadata": {
        "colab": {
          "base_uri": "https://localhost:8080/"
        },
        "id": "pbREhYACf2oj",
        "outputId": "1127a54a-dd29-48dd-ac64-a244df5a8c20"
      },
      "source": [
        "ts.index"
      ],
      "execution_count": 77,
      "outputs": [
        {
          "output_type": "execute_result",
          "data": {
            "text/plain": [
              "PeriodIndex(['1990-03-01 09:00', '1990-06-01 09:00', '1990-09-01 09:00',\n",
              "             '1990-12-01 09:00', '1991-03-01 09:00', '1991-06-01 09:00',\n",
              "             '1991-09-01 09:00', '1991-12-01 09:00', '1992-03-01 09:00',\n",
              "             '1992-06-01 09:00',\n",
              "             ...\n",
              "             '2018-09-01 09:00', '2018-12-01 09:00', '2019-03-01 09:00',\n",
              "             '2019-06-01 09:00', '2019-09-01 09:00', '2019-12-01 09:00',\n",
              "             '2020-03-01 09:00', '2020-06-01 09:00', '2020-09-01 09:00',\n",
              "             '2020-12-01 09:00'],\n",
              "            dtype='period[H]', length=124, freq='H')"
            ]
          },
          "metadata": {
            "tags": []
          },
          "execution_count": 77
        }
      ]
    },
    {
      "cell_type": "code",
      "metadata": {
        "id": "I6Ddfhuqf4sU"
      },
      "source": [
        "import pandas as pd\n",
        "import numpy as np"
      ],
      "execution_count": 78,
      "outputs": []
    },
    {
      "cell_type": "code",
      "metadata": {
        "colab": {
          "base_uri": "https://localhost:8080/"
        },
        "id": "qQ1iLh-Hf8Rq",
        "outputId": "1330860d-8360-406f-bacb-20b6ab79f6c7"
      },
      "source": [
        "df = pd.DataFrame({\n",
        "    \"id\":[1, 2, 3, 4, 5, 6],\n",
        "    \"raw_grade\":['a', 'b', 'b', 'a', 'a', 'e']\n",
        "})\n",
        "print(df);print()"
      ],
      "execution_count": 79,
      "outputs": [
        {
          "output_type": "stream",
          "text": [
            "   id raw_grade\n",
            "0   1         a\n",
            "1   2         b\n",
            "2   3         b\n",
            "3   4         a\n",
            "4   5         a\n",
            "5   6         e\n",
            "\n"
          ],
          "name": "stdout"
        }
      ]
    },
    {
      "cell_type": "code",
      "metadata": {
        "colab": {
          "base_uri": "https://localhost:8080/"
        },
        "id": "iU_2GOxOf-wS",
        "outputId": "6ebce1c1-91e2-4acc-d18d-61fa184c5cad"
      },
      "source": [
        "df[\"grade\"] = df[\"raw_grade\"].astype(\"category\")\n",
        "print(df[\"grade\"]);print()"
      ],
      "execution_count": 80,
      "outputs": [
        {
          "output_type": "stream",
          "text": [
            "0    a\n",
            "1    b\n",
            "2    b\n",
            "3    a\n",
            "4    a\n",
            "5    e\n",
            "Name: grade, dtype: category\n",
            "Categories (3, object): ['a', 'b', 'e']\n",
            "\n"
          ],
          "name": "stdout"
        }
      ]
    },
    {
      "cell_type": "code",
      "metadata": {
        "colab": {
          "base_uri": "https://localhost:8080/"
        },
        "id": "lJYhE8_UgP4q",
        "outputId": "0d5f34e4-f6d2-4c02-8bd4-cdda5bca7b86"
      },
      "source": [
        "df[\"grade\"] = df[\"raw_grade\"].astype(\"category\")\n",
        "print(df[\"grade\"]);print()"
      ],
      "execution_count": 81,
      "outputs": [
        {
          "output_type": "stream",
          "text": [
            "0    a\n",
            "1    b\n",
            "2    b\n",
            "3    a\n",
            "4    a\n",
            "5    e\n",
            "Name: grade, dtype: category\n",
            "Categories (3, object): ['a', 'b', 'e']\n",
            "\n"
          ],
          "name": "stdout"
        }
      ]
    },
    {
      "cell_type": "code",
      "metadata": {
        "id": "d5_wk01HgWhN"
      },
      "source": [
        "df['grade'] = df['grade'].cat.set_categories(['very bad', 'bad', 'medium', 'good', 'very good'])"
      ],
      "execution_count": 82,
      "outputs": []
    },
    {
      "cell_type": "code",
      "metadata": {
        "colab": {
          "base_uri": "https://localhost:8080/"
        },
        "id": "n62AZ3RMgbFA",
        "outputId": "ad6ff8ad-5b27-468e-d720-cb1b3ab2ca51"
      },
      "source": [
        "print(df[\"grade\"]);print()"
      ],
      "execution_count": 83,
      "outputs": [
        {
          "output_type": "stream",
          "text": [
            "0    NaN\n",
            "1    NaN\n",
            "2    NaN\n",
            "3    NaN\n",
            "4    NaN\n",
            "5    NaN\n",
            "Name: grade, dtype: category\n",
            "Categories (5, object): ['very bad', 'bad', 'medium', 'good', 'very good']\n",
            "\n"
          ],
          "name": "stdout"
        }
      ]
    },
    {
      "cell_type": "code",
      "metadata": {
        "colab": {
          "base_uri": "https://localhost:8080/"
        },
        "id": "aF5O0gSpgdzs",
        "outputId": "3492cdfd-bdfa-410d-a3ee-345f14fafc32"
      },
      "source": [
        "print(df.sort_values(by='grade'));print()"
      ],
      "execution_count": 84,
      "outputs": [
        {
          "output_type": "stream",
          "text": [
            "   id raw_grade grade\n",
            "0   1         a   NaN\n",
            "1   2         b   NaN\n",
            "2   3         b   NaN\n",
            "3   4         a   NaN\n",
            "4   5         a   NaN\n",
            "5   6         e   NaN\n",
            "\n"
          ],
          "name": "stdout"
        }
      ]
    },
    {
      "cell_type": "code",
      "metadata": {
        "colab": {
          "base_uri": "https://localhost:8080/"
        },
        "id": "Yr65rwv0ggEG",
        "outputId": "e4bb7d5c-4805-4ef3-df62-06d98e9b1437"
      },
      "source": [
        "df.groupby('grade').size()"
      ],
      "execution_count": 85,
      "outputs": [
        {
          "output_type": "execute_result",
          "data": {
            "text/plain": [
              "grade\n",
              "very bad     0\n",
              "bad          0\n",
              "medium       0\n",
              "good         0\n",
              "very good    0\n",
              "dtype: int64"
            ]
          },
          "metadata": {
            "tags": []
          },
          "execution_count": 85
        }
      ]
    },
    {
      "cell_type": "code",
      "metadata": {
        "id": "tGBQzOyvg92l"
      },
      "source": [
        "ts = pd.Series(np.random.randn(1000), index=pd.date_range('11/14/2020', periods=1000))"
      ],
      "execution_count": 86,
      "outputs": []
    },
    {
      "cell_type": "code",
      "metadata": {
        "id": "5ob5-woihDzR"
      },
      "source": [
        "ts = ts.cumsum()"
      ],
      "execution_count": 87,
      "outputs": []
    },
    {
      "cell_type": "code",
      "metadata": {
        "colab": {
          "base_uri": "https://localhost:8080/",
          "height": 295
        },
        "id": "tyZW55UWhNdk",
        "outputId": "33dc7c9c-e0f5-4ef9-d7f9-b1b10a9093b4"
      },
      "source": [
        "ts.plot()"
      ],
      "execution_count": 88,
      "outputs": [
        {
          "output_type": "execute_result",
          "data": {
            "text/plain": [
              "<matplotlib.axes._subplots.AxesSubplot at 0x7f02e1a96a10>"
            ]
          },
          "metadata": {
            "tags": []
          },
          "execution_count": 88
        },
        {
          "output_type": "display_data",
          "data": {
            "image/png": "[encoded data removed]",
            "text/plain": [
              "<Figure size 432x288 with 1 Axes>"
            ]
          },
          "metadata": {
            "tags": [],
            "needs_background": "light"
          }
        }
      ]
    },
    {
      "cell_type": "code",
      "metadata": {
        "id": "YZ5SNYNjhkX4"
      },
      "source": [
        "ts = pd.Series(np.random.randn(1000), index=pd.date_range('20210521', periods=1000))\n",
        "df = pd.DataFrame(np.random.randn(1000, 4), index=ts.index, columns = ['A', 'B', 'C', 'D'])\n"
      ],
      "execution_count": 91,
      "outputs": []
    },
    {
      "cell_type": "code",
      "metadata": {
        "id": "kbGZVx1eh4Hn"
      },
      "source": [
        "df = df.cumsum()"
      ],
      "execution_count": 99,
      "outputs": []
    },
    {
      "cell_type": "code",
      "metadata": {
        "colab": {
          "base_uri": "https://localhost:8080/",
          "height": 295
        },
        "id": "gCWG51ofiA2r",
        "outputId": "ec91fe1b-a212-4cbb-edb9-1f6154c5311c"
      },
      "source": [
        "df.plot()"
      ],
      "execution_count": 96,
      "outputs": [
        {
          "output_type": "execute_result",
          "data": {
            "text/plain": [
              "<matplotlib.axes._subplots.AxesSubplot at 0x7f02e14dabd0>"
            ]
          },
          "metadata": {
            "tags": []
          },
          "execution_count": 96
        },
        {
          "output_type": "display_data",
          "data": {
            "image/png": "[encoded data removed]",
            "text/plain": [
              "<Figure size 432x288 with 1 Axes>"
            ]
          },
          "metadata": {
            "tags": [],
            "needs_background": "light"
          }
        }
      ]
    },
    {
      "cell_type": "code",
      "metadata": {
        "colab": {
          "base_uri": "https://localhost:8080/",
          "height": 419
        },
        "id": "ovB9PjPXiM87",
        "outputId": "add49713-8479-42be-9119-ef133d96c700"
      },
      "source": [
        "df"
      ],
      "execution_count": 100,
      "outputs": [
        {
          "output_type": "execute_result",
          "data": {
            "text/html": [
              "<div>\n",
              "<style scoped>\n",
              "    .dataframe tbody tr th:only-of-type {\n",
              "        vertical-align: middle;\n",
              "    }\n",
              "\n",
              "    .dataframe tbody tr th {\n",
              "        vertical-align: top;\n",
              "    }\n",
              "\n",
              "    .dataframe thead th {\n",
              "        text-align: right;\n",
              "    }\n",
              "</style>\n",
              "<table border=\"1\" class=\"dataframe\">\n",
              "  <thead>\n",
              "    <tr style=\"text-align: right;\">\n",
              "      <th></th>\n",
              "      <th>A</th>\n",
              "      <th>B</th>\n",
              "      <th>C</th>\n",
              "      <th>D</th>\n",
              "    </tr>\n",
              "  </thead>\n",
              "  <tbody>\n",
              "    <tr>\n",
              "      <th>2021-05-21</th>\n",
              "      <td>1.762861e+00</td>\n",
              "      <td>1.186472e+00</td>\n",
              "      <td>-5.657763e-01</td>\n",
              "      <td>5.673611e-01</td>\n",
              "    </tr>\n",
              "    <tr>\n",
              "      <th>2021-05-22</th>\n",
              "      <td>7.517755e+00</td>\n",
              "      <td>4.382511e+00</td>\n",
              "      <td>-2.288469e+00</td>\n",
              "      <td>2.523320e+00</td>\n",
              "    </tr>\n",
              "    <tr>\n",
              "      <th>2021-05-23</th>\n",
              "      <td>1.971699e+01</td>\n",
              "      <td>9.804587e+00</td>\n",
              "      <td>-5.993069e+00</td>\n",
              "      <td>5.544377e+00</td>\n",
              "    </tr>\n",
              "    <tr>\n",
              "      <th>2021-05-24</th>\n",
              "      <td>3.951152e+01</td>\n",
              "      <td>1.874314e+01</td>\n",
              "      <td>-1.204923e+01</td>\n",
              "      <td>9.381914e+00</td>\n",
              "    </tr>\n",
              "    <tr>\n",
              "      <th>2021-05-25</th>\n",
              "      <td>6.786911e+01</td>\n",
              "      <td>2.972409e+01</td>\n",
              "      <td>-2.064289e+01</td>\n",
              "      <td>1.424941e+01</td>\n",
              "    </tr>\n",
              "    <tr>\n",
              "      <th>...</th>\n",
              "      <td>...</td>\n",
              "      <td>...</td>\n",
              "      <td>...</td>\n",
              "      <td>...</td>\n",
              "    </tr>\n",
              "    <tr>\n",
              "      <th>2024-02-10</th>\n",
              "      <td>1.883048e+09</td>\n",
              "      <td>-2.296689e+09</td>\n",
              "      <td>7.493748e+08</td>\n",
              "      <td>2.554493e+09</td>\n",
              "    </tr>\n",
              "    <tr>\n",
              "      <th>2024-02-11</th>\n",
              "      <td>1.889402e+09</td>\n",
              "      <td>-2.303550e+09</td>\n",
              "      <td>7.518770e+08</td>\n",
              "      <td>2.562202e+09</td>\n",
              "    </tr>\n",
              "    <tr>\n",
              "      <th>2024-02-12</th>\n",
              "      <td>1.895773e+09</td>\n",
              "      <td>-2.310425e+09</td>\n",
              "      <td>7.543877e+08</td>\n",
              "      <td>2.569924e+09</td>\n",
              "    </tr>\n",
              "    <tr>\n",
              "      <th>2024-02-13</th>\n",
              "      <td>1.902159e+09</td>\n",
              "      <td>-2.317313e+09</td>\n",
              "      <td>7.569070e+08</td>\n",
              "      <td>2.577661e+09</td>\n",
              "    </tr>\n",
              "    <tr>\n",
              "      <th>2024-02-14</th>\n",
              "      <td>1.908563e+09</td>\n",
              "      <td>-2.324214e+09</td>\n",
              "      <td>7.594349e+08</td>\n",
              "      <td>2.585412e+09</td>\n",
              "    </tr>\n",
              "  </tbody>\n",
              "</table>\n",
              "<p>1000 rows × 4 columns</p>\n",
              "</div>"
            ],
            "text/plain": [
              "                       A             B             C             D\n",
              "2021-05-21  1.762861e+00  1.186472e+00 -5.657763e-01  5.673611e-01\n",
              "2021-05-22  7.517755e+00  4.382511e+00 -2.288469e+00  2.523320e+00\n",
              "2021-05-23  1.971699e+01  9.804587e+00 -5.993069e+00  5.544377e+00\n",
              "2021-05-24  3.951152e+01  1.874314e+01 -1.204923e+01  9.381914e+00\n",
              "2021-05-25  6.786911e+01  2.972409e+01 -2.064289e+01  1.424941e+01\n",
              "...                  ...           ...           ...           ...\n",
              "2024-02-10  1.883048e+09 -2.296689e+09  7.493748e+08  2.554493e+09\n",
              "2024-02-11  1.889402e+09 -2.303550e+09  7.518770e+08  2.562202e+09\n",
              "2024-02-12  1.895773e+09 -2.310425e+09  7.543877e+08  2.569924e+09\n",
              "2024-02-13  1.902159e+09 -2.317313e+09  7.569070e+08  2.577661e+09\n",
              "2024-02-14  1.908563e+09 -2.324214e+09  7.594349e+08  2.585412e+09\n",
              "\n",
              "[1000 rows x 4 columns]"
            ]
          },
          "metadata": {
            "tags": []
          },
          "execution_count": 100
        }
      ]
    }
  ]
}